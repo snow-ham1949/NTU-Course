{
  "cells": [
    {
      "cell_type": "markdown",
      "metadata": {
        "id": "AFEKWoh3p1Mv"
      },
      "source": [
        "# Homework Description\n",
        "- English to Chinese (Traditional) Translation\n",
        "  - Input: an English sentence         (e.g.\t\ttom is a student .)\n",
        "  - Output: the Chinese translation  (e.g. \t\t湯姆 是 個 學生 。)\n",
        "\n",
        "- TODO\n",
        "    - Train a simple RNN seq2seq to acheive translation\n",
        "    - Switch to transformer model to boost performance\n",
        "    - Apply Back-translation to furthur boost performance"
      ]
    },
    {
      "cell_type": "markdown",
      "metadata": {
        "id": "59neB_Sxp5Ub"
      },
      "source": [
        "# Download and import required packages"
      ]
    },
    {
      "cell_type": "code",
      "execution_count": 45,
      "metadata": {
        "id": "uRLTiuIuqGNc"
      },
      "outputs": [],
      "source": [
        "import sys\n",
        "import pdb\n",
        "import pprint\n",
        "import logging\n",
        "import os\n",
        "import random\n",
        "\n",
        "import torch\n",
        "import torch.nn as nn\n",
        "import torch.nn.functional as F\n",
        "from torch.utils import data\n",
        "import numpy as np\n",
        "import tqdm.auto as tqdm\n",
        "from pathlib import Path\n",
        "from argparse import Namespace\n",
        "from fairseq import utils\n",
        "\n",
        "import matplotlib.pyplot as plt"
      ]
    },
    {
      "cell_type": "markdown",
      "metadata": {
        "id": "0n07Za1XqJzA"
      },
      "source": [
        "# Fix random seed"
      ]
    },
    {
      "cell_type": "code",
      "execution_count": 46,
      "metadata": {
        "id": "xllxxyWxqI7s"
      },
      "outputs": [],
      "source": [
        "seed = 900405\n",
        "random.seed(seed)\n",
        "torch.manual_seed(seed)\n",
        "if torch.cuda.is_available():\n",
        "    torch.cuda.manual_seed(seed)\n",
        "    torch.cuda.manual_seed_all(seed)  \n",
        "np.random.seed(seed)  \n",
        "torch.backends.cudnn.benchmark = False\n",
        "torch.backends.cudnn.deterministic = True"
      ]
    },
    {
      "cell_type": "markdown",
      "metadata": {
        "id": "N5ORDJ-2qdYw"
      },
      "source": [
        "# Dataset\n",
        "\n",
        "## En-Zh Bilingual Parallel Corpus\n",
        "* [TED2020](#reimers-2020-multilingual-sentence-bert)\n",
        "    - Raw: 398,066 (sentences)   \n",
        "    - Processed: 393,980 (sentences)\n",
        "    \n",
        "\n",
        "## Testdata\n",
        "- Size: 4,000 (sentences)\n",
        "- **Chinese translation is undisclosed. The provided (.zh) file is psuedo translation, each line is a '。'**"
      ]
    },
    {
      "cell_type": "markdown",
      "metadata": {
        "id": "GQw2mY4Dqkzd"
      },
      "source": [
        "## Dataset Download"
      ]
    },
    {
      "cell_type": "code",
      "execution_count": 47,
      "metadata": {
        "id": "SXT42xQtqijD"
      },
      "outputs": [],
      "source": [
        "data_dir = './DATA/rawdata'\n",
        "dataset_name = 'ted2020'\n",
        "# urls = (\n",
        "#     \"https://github.com/yuhsinchan/ML2022-HW5Dataset/releases/download/v1.0.2/ted2020.tgz\",\n",
        "#     \"https://github.com/yuhsinchan/ML2022-HW5Dataset/releases/download/v1.0.2/test.tgz\",\n",
        "# )\n",
        "# file_names = (\n",
        "#     'ted2020.tgz', # train & dev\n",
        "#     'test.tgz', # test\n",
        "# )\n",
        "prefix = Path(data_dir).absolute() / dataset_name\n",
        "\n",
        "# prefix.mkdir(parents=True, exist_ok=True)\n",
        "# for u, f in zip(urls, file_names):\n",
        "#     path = prefix/f\n",
        "#     if not path.exists():\n",
        "#         !wget {u} -O {path}\n",
        "#     if path.suffix == \".tgz\":\n",
        "#         !tar -xvf {path} -C {prefix}\n",
        "#     elif path.suffix == \".zip\":\n",
        "#         !unzip -o {path} -d {prefix}\n",
        "# !mv {prefix/'raw.en'} {prefix/'train_dev.raw.en'}\n",
        "# !mv {prefix/'raw.zh'} {prefix/'train_dev.raw.zh'}\n",
        "# !mv {prefix/'test/test.en'} {prefix/'test.raw.en'}\n",
        "# !mv {prefix/'test/test.zh'} {prefix/'test.raw.zh'}\n",
        "# !rm -rf {prefix/'test'}"
      ]
    },
    {
      "cell_type": "markdown",
      "metadata": {
        "id": "YLkJwNiFrIwZ"
      },
      "source": [
        "## Language"
      ]
    },
    {
      "cell_type": "code",
      "execution_count": 48,
      "metadata": {
        "id": "_uJYkCncrKJb"
      },
      "outputs": [],
      "source": [
        "src_lang = 'en'\n",
        "tgt_lang = 'zh'\n",
        "\n",
        "data_prefix = f'{prefix}/train_dev.raw'\n",
        "test_prefix = f'{prefix}/test.raw'"
      ]
    },
    {
      "cell_type": "code",
      "execution_count": 49,
      "metadata": {
        "id": "0t2CPt1brOT3"
      },
      "outputs": [
        {
          "name": "stdout",
          "output_type": "stream",
          "text": [
            "Thank you so much, Chris.\n",
            "And it's truly a great honor to have the opportunity to come to this stage twice; I'm extremely grateful.\n",
            "I have been blown away by this conference, and I want to thank all of you for the many nice comments about what I had to say the other night.\n",
            "And I say that sincerely, partly because  I need that.\n",
            "Put yourselves in my position.\n",
            "非常謝謝你，克里斯。能有這個機會第二度踏上這個演講台\n",
            "真是一大榮幸。我非常感激。\n",
            "這個研討會給我留下了極為深刻的印象，我想感謝大家 對我之前演講的好評。\n",
            "我是由衷的想這麼說，有部份原因是因為 —— 我真的有需要!\n",
            "請你們設身處地為我想一想！\n"
          ]
        }
      ],
      "source": [
        "!head {data_prefix+'.'+src_lang} -n 5\n",
        "!head {data_prefix+'.'+tgt_lang} -n 5"
      ]
    },
    {
      "cell_type": "markdown",
      "metadata": {
        "id": "pRoE9UK7r1gY"
      },
      "source": [
        "## Preprocess files"
      ]
    },
    {
      "cell_type": "code",
      "execution_count": 50,
      "metadata": {
        "id": "3tzFwtnFrle3"
      },
      "outputs": [],
      "source": [
        "import re\n",
        "\n",
        "def strQ2B(ustring):\n",
        "    \"\"\"Full width -> half width\"\"\"\n",
        "    # reference:https://ithelp.ithome.com.tw/articles/10233122\n",
        "    ss = []\n",
        "    for s in ustring:\n",
        "        rstring = \"\"\n",
        "        for uchar in s:\n",
        "            inside_code = ord(uchar)\n",
        "            if inside_code == 12288:  # Full width space: direct conversion\n",
        "                inside_code = 32\n",
        "            elif (inside_code >= 65281 and inside_code <= 65374):  # Full width chars (except space) conversion\n",
        "                inside_code -= 65248\n",
        "            rstring += chr(inside_code)\n",
        "        ss.append(rstring)\n",
        "    return ''.join(ss)\n",
        "                \n",
        "def clean_s(s, lang):\n",
        "    if lang == 'en':\n",
        "        s = re.sub(r\"\\([^()]*\\)\", \"\", s) # remove ([text])\n",
        "        s = s.replace('-', '') # remove '-'\n",
        "        s = re.sub('([.,;!?()\\\"])', r' \\1 ', s) # keep punctuation\n",
        "    elif lang == 'zh':\n",
        "        s = strQ2B(s) # Q2B\n",
        "        s = re.sub(r\"\\([^()]*\\)\", \"\", s) # remove ([text])\n",
        "        s = s.replace(' ', '')\n",
        "        s = s.replace('—', '')\n",
        "        s = s.replace('“', '\"')\n",
        "        s = s.replace('”', '\"')\n",
        "        s = s.replace('_', '')\n",
        "        s = re.sub('([。,;!?()\\\"~「」])', r' \\1 ', s) # keep punctuation\n",
        "    s = ' '.join(s.strip().split())\n",
        "    return s\n",
        "\n",
        "def len_s(s, lang):\n",
        "    if lang == 'zh':\n",
        "        return len(s)\n",
        "    return len(s.split())\n",
        "\n",
        "def clean_corpus(prefix, l1, l2, ratio=9, max_len=1000, min_len=1):\n",
        "    if Path(f'{prefix}.clean.{l1}').exists() and Path(f'{prefix}.clean.{l2}').exists():\n",
        "        print(f'{prefix}.clean.{l1} & {l2} exists. skipping clean.')\n",
        "        return\n",
        "    with open(f'{prefix}.{l1}', 'r') as l1_in_f:\n",
        "        with open(f'{prefix}.{l2}', 'r') as l2_in_f:\n",
        "            with open(f'{prefix}.clean.{l1}', 'w') as l1_out_f:\n",
        "                with open(f'{prefix}.clean.{l2}', 'w') as l2_out_f:\n",
        "                    for s1 in l1_in_f:\n",
        "                        s1 = s1.strip()\n",
        "                        s2 = l2_in_f.readline().strip()\n",
        "                        s1 = clean_s(s1, l1)\n",
        "                        s2 = clean_s(s2, l2)\n",
        "                        s1_len = len_s(s1, l1)\n",
        "                        s2_len = len_s(s2, l2)\n",
        "                        if min_len > 0: # remove short sentence\n",
        "                            if s1_len < min_len or s2_len < min_len:\n",
        "                                continue\n",
        "                        if max_len > 0: # remove long sentence\n",
        "                            if s1_len > max_len or s2_len > max_len:\n",
        "                                continue\n",
        "                        if ratio > 0: # remove by ratio of length\n",
        "                            if s1_len/s2_len > ratio or s2_len/s1_len > ratio:\n",
        "                                continue\n",
        "                        print(s1, file=l1_out_f)\n",
        "                        print(s2, file=l2_out_f)"
      ]
    },
    {
      "cell_type": "code",
      "execution_count": 51,
      "metadata": {
        "id": "h_i8b1PRr9Nf"
      },
      "outputs": [
        {
          "name": "stdout",
          "output_type": "stream",
          "text": [
            "/home/csypt/桌面/ML/hw/hw5/DATA/rawdata/ted2020/train_dev.raw.clean.en & zh exists. skipping clean.\n",
            "/home/csypt/桌面/ML/hw/hw5/DATA/rawdata/ted2020/test.raw.clean.en & zh exists. skipping clean.\n"
          ]
        }
      ],
      "source": [
        "clean_corpus(data_prefix, src_lang, tgt_lang)\n",
        "clean_corpus(test_prefix, src_lang, tgt_lang, ratio=-1, min_len=-1, max_len=-1)"
      ]
    },
    {
      "cell_type": "code",
      "execution_count": 52,
      "metadata": {
        "id": "gjT3XCy9r_rj"
      },
      "outputs": [
        {
          "name": "stdout",
          "output_type": "stream",
          "text": [
            "Thank you so much , Chris .\n",
            "And it's truly a great honor to have the opportunity to come to this stage twice ; I'm extremely grateful .\n",
            "I have been blown away by this conference , and I want to thank all of you for the many nice comments about what I had to say the other night .\n",
            "And I say that sincerely , partly because I need that .\n",
            "Put yourselves in my position .\n",
            "非常謝謝你 , 克里斯 。 能有這個機會第二度踏上這個演講台\n",
            "真是一大榮幸 。 我非常感激 。\n",
            "這個研討會給我留下了極為深刻的印象 , 我想感謝大家對我之前演講的好評 。\n",
            "我是由衷的想這麼說 , 有部份原因是因為我真的有需要 !\n",
            "請你們設身處地為我想一想 !\n"
          ]
        }
      ],
      "source": [
        "!head {data_prefix+'.clean.'+src_lang} -n 5\n",
        "!head {data_prefix+'.clean.'+tgt_lang} -n 5"
      ]
    },
    {
      "cell_type": "markdown",
      "metadata": {
        "id": "nKb4u67-sT_Z"
      },
      "source": [
        "## Split into train/valid"
      ]
    },
    {
      "cell_type": "code",
      "execution_count": 53,
      "metadata": {
        "id": "AuFKeDz3sGHL"
      },
      "outputs": [],
      "source": [
        "valid_ratio = 0.01 # 3000~4000 would suffice\n",
        "train_ratio = 1 - valid_ratio"
      ]
    },
    {
      "cell_type": "code",
      "execution_count": 54,
      "metadata": {
        "id": "QR2NVldqsXyY"
      },
      "outputs": [
        {
          "name": "stdout",
          "output_type": "stream",
          "text": [
            "train/valid splits exists. skipping split.\n"
          ]
        }
      ],
      "source": [
        "if (prefix/f'train.clean.{src_lang}').exists() \\\n",
        "and (prefix/f'train.clean.{tgt_lang}').exists() \\\n",
        "and (prefix/f'valid.clean.{src_lang}').exists() \\\n",
        "and (prefix/f'valid.clean.{tgt_lang}').exists():\n",
        "    print(f'train/valid splits exists. skipping split.')\n",
        "else:\n",
        "    line_num = sum(1 for line in open(f'{data_prefix}.clean.{src_lang}'))\n",
        "    labels = list(range(line_num))\n",
        "    random.shuffle(labels)\n",
        "    for lang in [src_lang, tgt_lang]:\n",
        "        train_f = open(os.path.join(data_dir, dataset_name, f'train.clean.{lang}'), 'w')\n",
        "        valid_f = open(os.path.join(data_dir, dataset_name, f'valid.clean.{lang}'), 'w')\n",
        "        count = 0\n",
        "        for line in open(f'{data_prefix}.clean.{lang}', 'r'):\n",
        "            if labels[count]/line_num < train_ratio:\n",
        "                train_f.write(line)\n",
        "            else:\n",
        "                valid_f.write(line)\n",
        "            count += 1\n",
        "        train_f.close()\n",
        "        valid_f.close()"
      ]
    },
    {
      "cell_type": "markdown",
      "metadata": {
        "id": "n1rwQysTsdJq"
      },
      "source": [
        "## Subword Units \n",
        "Out of vocabulary (OOV) has been a major problem in machine translation. This can be alleviated by using subword units.\n",
        "- We will use the [sentencepiece](#kudo-richardson-2018-sentencepiece) package\n",
        "- select 'unigram' or 'byte-pair encoding (BPE)' algorithm"
      ]
    },
    {
      "cell_type": "code",
      "execution_count": 55,
      "metadata": {
        "id": "Ecwllsa7sZRA"
      },
      "outputs": [
        {
          "name": "stdout",
          "output_type": "stream",
          "text": [
            "/home/csypt/桌面/ML/hw/hw5/DATA/rawdata/ted2020/spm8000.model exists. skipping spm_train.\n"
          ]
        }
      ],
      "source": [
        "import sentencepiece as spm\n",
        "vocab_size = 8000\n",
        "if (prefix/f'spm{vocab_size}.model').exists():\n",
        "    print(f'{prefix}/spm{vocab_size}.model exists. skipping spm_train.')\n",
        "else:\n",
        "    spm.SentencePieceTrainer.train(\n",
        "        input=','.join([f'{prefix}/train.clean.{src_lang}',\n",
        "                        f'{prefix}/valid.clean.{src_lang}',\n",
        "                        f'{prefix}/train.clean.{tgt_lang}',\n",
        "                        f'{prefix}/valid.clean.{tgt_lang}']),\n",
        "        model_prefix=prefix/f'spm{vocab_size}',\n",
        "        vocab_size=vocab_size,\n",
        "        character_coverage=1,\n",
        "        model_type='unigram', # 'bpe' works as well\n",
        "        input_sentence_size=1e6,\n",
        "        shuffle_input_sentence=True,\n",
        "        normalization_rule_name='nmt_nfkc_cf',\n",
        "    )"
      ]
    },
    {
      "cell_type": "code",
      "execution_count": 56,
      "metadata": {
        "id": "lQPRNldqse_V"
      },
      "outputs": [
        {
          "name": "stdout",
          "output_type": "stream",
          "text": [
            "/home/csypt/桌面/ML/hw/hw5/DATA/rawdata/ted2020/train.en exists. skipping spm_encode.\n",
            "/home/csypt/桌面/ML/hw/hw5/DATA/rawdata/ted2020/train.zh exists. skipping spm_encode.\n",
            "/home/csypt/桌面/ML/hw/hw5/DATA/rawdata/ted2020/valid.en exists. skipping spm_encode.\n",
            "/home/csypt/桌面/ML/hw/hw5/DATA/rawdata/ted2020/valid.zh exists. skipping spm_encode.\n",
            "/home/csypt/桌面/ML/hw/hw5/DATA/rawdata/ted2020/test.en exists. skipping spm_encode.\n",
            "/home/csypt/桌面/ML/hw/hw5/DATA/rawdata/ted2020/test.zh exists. skipping spm_encode.\n"
          ]
        }
      ],
      "source": [
        "spm_model = spm.SentencePieceProcessor(model_file=str(prefix/f'spm{vocab_size}.model'))\n",
        "in_tag = {\n",
        "    'train': 'train.clean',\n",
        "    'valid': 'valid.clean',\n",
        "    'test': 'test.raw.clean',\n",
        "}\n",
        "for split in ['train', 'valid', 'test']:\n",
        "    for lang in [src_lang, tgt_lang]:\n",
        "        out_path = prefix/f'{split}.{lang}'\n",
        "        if out_path.exists():\n",
        "            print(f\"{out_path} exists. skipping spm_encode.\")\n",
        "        else:\n",
        "            with open(prefix/f'{split}.{lang}', 'w') as out_f:\n",
        "                with open(prefix/f'{in_tag[split]}.{lang}', 'r') as in_f:\n",
        "                    for line in in_f:\n",
        "                        line = line.strip()\n",
        "                        tok = spm_model.encode(line, out_type=str)\n",
        "                        print(' '.join(tok), file=out_f)"
      ]
    },
    {
      "cell_type": "code",
      "execution_count": 57,
      "metadata": {
        "id": "4j6lXHjAsjXa"
      },
      "outputs": [
        {
          "name": "stdout",
          "output_type": "stream",
          "text": [
            "▁thank ▁you ▁so ▁much ▁, ▁chris ▁.\n",
            "▁and ▁it ' s ▁ t ru ly ▁a ▁great ▁ho n or ▁to ▁have ▁the ▁ op port un ity ▁to ▁come ▁to ▁this ▁st age ▁ t wi ce ▁; ▁i ' m ▁ex t re me ly ▁gr ate ful ▁.\n",
            "▁i ▁have ▁been ▁ bl ow n ▁away ▁by ▁this ▁con fer ence ▁, ▁and ▁i ▁want ▁to ▁thank ▁all ▁of ▁you ▁for ▁the ▁many ▁ ni ce ▁ com ment s ▁about ▁what ▁i ▁had ▁to ▁say ▁the ▁other ▁night ▁.\n",
            "▁and ▁i ▁say ▁that ▁since re ly ▁, ▁part ly ▁because ▁i ▁need ▁that ▁.\n",
            "▁put ▁your s el ve s ▁in ▁my ▁po s ition ▁.\n",
            "▁ 非常 謝 謝 你 ▁, ▁ 克 里 斯 ▁。 ▁ 能 有 這個 機會 第二 度 踏 上 這個 演講 台\n",
            "▁ 真 是 一 大 榮 幸 ▁。 ▁我 非常 感 激 ▁。\n",
            "▁這個 研 討 會 給我 留 下 了 極 為 深 刻 的 印 象 ▁, ▁我想 感 謝 大家 對我 之前 演講 的 好 評 ▁。\n",
            "▁我 是由 衷 的 想 這麼 說 ▁, ▁有 部份 原因 是因為 我 真的 有 需要 ▁!\n",
            "▁ 請 你們 設 身 處 地 為 我想 一 想 ▁!\n"
          ]
        }
      ],
      "source": [
        "!head {data_dir+'/'+dataset_name+'/train.'+src_lang} -n 5\n",
        "!head {data_dir+'/'+dataset_name+'/train.'+tgt_lang} -n 5"
      ]
    },
    {
      "cell_type": "markdown",
      "metadata": {
        "id": "59si_C0Wsms7"
      },
      "source": [
        "## Binarize the data with fairseq"
      ]
    },
    {
      "cell_type": "code",
      "execution_count": 58,
      "metadata": {
        "id": "w-cHVLSpsknh"
      },
      "outputs": [
        {
          "name": "stdout",
          "output_type": "stream",
          "text": [
            "DATA/data-bin/ted2020 exists, will not overwrite!\n"
          ]
        }
      ],
      "source": [
        "binpath = Path('./DATA/data-bin', dataset_name)\n",
        "if binpath.exists():\n",
        "    print(binpath, \"exists, will not overwrite!\")\n",
        "else:\n",
        "    !python -m fairseq_cli.preprocess \\\n",
        "        --source-lang {src_lang}\\\n",
        "        --target-lang {tgt_lang}\\\n",
        "        --trainpref {prefix/'train'}\\\n",
        "        --validpref {prefix/'valid'}\\\n",
        "        --testpref {prefix/'test'}\\\n",
        "        --destdir {binpath}\\\n",
        "        --joined-dictionary\\\n",
        "        --workers 2"
      ]
    },
    {
      "cell_type": "markdown",
      "metadata": {
        "id": "szMuH1SWLPWA"
      },
      "source": [
        "# Configuration for experiments"
      ]
    },
    {
      "cell_type": "code",
      "execution_count": 59,
      "metadata": {
        "id": "5Luz3_tVLUxs"
      },
      "outputs": [],
      "source": [
        "config = Namespace(\n",
        "    datadir = \"./DATA/data-bin/ted2020\",\n",
        "    savedir = \"./checkpoints/transformer_bt\",\n",
        "    source_lang = \"zh\",\n",
        "    target_lang = \"en\",\n",
        "    \n",
        "    # cpu threads when fetching & processing data.\n",
        "    num_workers=2,  \n",
        "    # batch size in terms of tokens. gradient accumulation increases the effective batchsize.\n",
        "    max_tokens=8192,\n",
        "    accum_steps=2,\n",
        "    \n",
        "    # the lr s calculated from Noam lr scheduler. you can tune the maximum lr by this factor.\n",
        "    lr_factor=2.,\n",
        "    lr_warmup=4000,\n",
        "    \n",
        "    # clipping gradient norm helps alleviate gradient exploding\n",
        "    clip_norm=1.0,\n",
        "    \n",
        "    # maximum epochs for training\n",
        "    max_epoch=30,\n",
        "    start_epoch=1,\n",
        "    \n",
        "    # beam size for beam search\n",
        "    beam=5, \n",
        "    # generate sequences of maximum length ax + b, where x is the source length\n",
        "    max_len_a=1.2, \n",
        "    max_len_b=10, \n",
        "    # when decoding, post process sentence by removing sentencepiece symbols and jieba tokenization.\n",
        "    post_process = \"sentencepiece\",\n",
        "    \n",
        "    # checkpoints\n",
        "    keep_last_epochs=5,\n",
        "    resume=None, # if resume from checkpoint name (under config.savedir)\n",
        "    \n",
        "    # logging\n",
        "    use_wandb=False,\n",
        ")"
      ]
    },
    {
      "cell_type": "markdown",
      "metadata": {
        "id": "cjrJFvyQLg86"
      },
      "source": [
        "# Logging\n",
        "- logging package logs ordinary messages\n",
        "- wandb logs the loss, bleu, etc. in the training process"
      ]
    },
    {
      "cell_type": "code",
      "execution_count": 60,
      "metadata": {
        "id": "-ZiMyDWALbDk"
      },
      "outputs": [],
      "source": [
        "logging.basicConfig(\n",
        "    format=\"%(asctime)s | %(levelname)s | %(name)s | %(message)s\",\n",
        "    datefmt=\"%Y-%m-%d %H:%M:%S\",\n",
        "    level=\"INFO\", # \"DEBUG\" \"WARNING\" \"ERROR\"\n",
        "    stream=sys.stdout,\n",
        ")\n",
        "proj = \"hw5.seq2seq\"\n",
        "logger = logging.getLogger(proj)\n",
        "if config.use_wandb:\n",
        "    import wandb\n",
        "    wandb.init(project=proj, name=Path(config.savedir).stem, config=config)"
      ]
    },
    {
      "cell_type": "markdown",
      "metadata": {
        "id": "BNoSkK45Lmqc"
      },
      "source": [
        "# CUDA Environments"
      ]
    },
    {
      "cell_type": "code",
      "execution_count": 61,
      "metadata": {
        "id": "oqrsbmcoLqMl"
      },
      "outputs": [
        {
          "name": "stdout",
          "output_type": "stream",
          "text": [
            "2022-04-08 13:21:04 | INFO | fairseq.utils | ***********************CUDA enviroments for all 1 workers***********************\n",
            "2022-04-08 13:21:04 | INFO | fairseq.utils | rank   0: capabilities =  8.6  ; total memory = 11.770 GB ; name = NVIDIA GeForce RTX 3060                 \n",
            "2022-04-08 13:21:04 | INFO | fairseq.utils | ***********************CUDA enviroments for all 1 workers***********************\n"
          ]
        }
      ],
      "source": [
        "cuda_env = utils.CudaEnvironment()\n",
        "utils.CudaEnvironment.pretty_print_cuda_env_list([cuda_env])\n",
        "device = torch.device('cuda:0' if torch.cuda.is_available() else 'cpu')"
      ]
    },
    {
      "cell_type": "markdown",
      "metadata": {
        "id": "TbJuBIHLLt2D"
      },
      "source": [
        "# Dataloading"
      ]
    },
    {
      "cell_type": "markdown",
      "metadata": {
        "id": "oOpG4EBRLwe_"
      },
      "source": [
        "## We borrow the TranslationTask from fairseq\n",
        "* used to load the binarized data created above\n",
        "* well-implemented data iterator (dataloader)\n",
        "* built-in task.source_dictionary and task.target_dictionary are also handy\n",
        "* well-implemented beach search decoder"
      ]
    },
    {
      "cell_type": "code",
      "execution_count": 62,
      "metadata": {
        "id": "3gSEy1uFLvVs"
      },
      "outputs": [
        {
          "name": "stdout",
          "output_type": "stream",
          "text": [
            "2022-04-08 13:21:04 | INFO | fairseq.tasks.translation | [zh] dictionary: 8000 types\n",
            "2022-04-08 13:21:04 | INFO | fairseq.tasks.translation | [en] dictionary: 8000 types\n"
          ]
        }
      ],
      "source": [
        "from fairseq.tasks.translation import TranslationConfig, TranslationTask\n",
        "\n",
        "## setup task\n",
        "task_cfg = TranslationConfig(\n",
        "    data=config.datadir,\n",
        "    source_lang=config.source_lang,\n",
        "    target_lang=config.target_lang,\n",
        "    train_subset=\"train\",\n",
        "    required_seq_len_multiple=8,\n",
        "    dataset_impl=\"mmap\",\n",
        "    upsample_primary=1,\n",
        ")\n",
        "task = TranslationTask.setup_task(task_cfg)"
      ]
    },
    {
      "cell_type": "code",
      "execution_count": 63,
      "metadata": {
        "id": "mR7Bhov7L4IU"
      },
      "outputs": [
        {
          "name": "stdout",
          "output_type": "stream",
          "text": [
            "2022-04-08 13:21:04 | INFO | hw5.seq2seq | loading data for epoch 1\n",
            "2022-04-08 13:21:04 | INFO | fairseq.data.data_utils | loaded 390,041 examples from: ./DATA/data-bin/ted2020/train.zh-en.zh\n",
            "2022-04-08 13:21:04 | INFO | fairseq.data.data_utils | loaded 390,041 examples from: ./DATA/data-bin/ted2020/train.zh-en.en\n",
            "2022-04-08 13:21:04 | INFO | fairseq.tasks.translation | ./DATA/data-bin/ted2020 train zh-en 390041 examples\n",
            "2022-04-08 13:21:04 | INFO | fairseq.data.data_utils | loaded 3,939 examples from: ./DATA/data-bin/ted2020/valid.zh-en.zh\n",
            "2022-04-08 13:21:04 | INFO | fairseq.data.data_utils | loaded 3,939 examples from: ./DATA/data-bin/ted2020/valid.zh-en.en\n",
            "2022-04-08 13:21:04 | INFO | fairseq.tasks.translation | ./DATA/data-bin/ted2020 valid zh-en 3939 examples\n"
          ]
        }
      ],
      "source": [
        "logger.info(\"loading data for epoch 1\")\n",
        "task.load_dataset(split=\"train\", epoch=1, combine=True) # combine if you have back-translation data.\n",
        "task.load_dataset(split=\"valid\", epoch=1)"
      ]
    },
    {
      "cell_type": "code",
      "execution_count": 64,
      "metadata": {
        "id": "P0BCEm_9L6ig"
      },
      "outputs": [
        {
          "name": "stdout",
          "output_type": "stream",
          "text": [
            "{'id': 1,\n",
            " 'source': tensor([   5,  951, 2093, 2699, 1292,  177,    9,  763, 1105,   44, 2667, 1304,\n",
            "          65,  416,  735,  362, 4436, 1046, 4052, 1948,  676,    2]),\n",
            " 'target': tensor([ 667,  310, 1533,  141,   44, 1252,   42, 1616,    4,  344, 1143,  257,\n",
            "         878,   37,   11,   17,    6,  491,  547,  316,   59,  885,    7,    2])}\n",
            "'Source: 其中包括三個顯著的因素:領導能力、外交手腕以及憲政設計'\n",
            "('Target: three things stand out: leadership , diplomacy and institutional '\n",
            " 'design .')\n"
          ]
        }
      ],
      "source": [
        "sample = task.dataset(\"valid\")[1]\n",
        "pprint.pprint(sample)\n",
        "pprint.pprint(\n",
        "    \"Source: \" + \\\n",
        "    task.source_dictionary.string(\n",
        "        sample['source'],\n",
        "        config.post_process,\n",
        "    )\n",
        ")\n",
        "pprint.pprint(\n",
        "    \"Target: \" + \\\n",
        "    task.target_dictionary.string(\n",
        "        sample['target'],\n",
        "        config.post_process,\n",
        "    )\n",
        ")"
      ]
    },
    {
      "cell_type": "markdown",
      "metadata": {
        "id": "UcfCVa2FMBSE"
      },
      "source": [
        "# Dataset iterator"
      ]
    },
    {
      "cell_type": "markdown",
      "metadata": {
        "id": "yBvc-B_6MKZM"
      },
      "source": [
        "* Controls every batch to contain no more than N tokens, which optimizes GPU memory efficiency\n",
        "* Shuffles the training set for every epoch\n",
        "* Ignore sentences exceeding maximum length\n",
        "* Pad all sentences in a batch to the same length, which enables parallel computing by GPU\n",
        "* Add eos and shift one token\n",
        "    - teacher forcing: to train the model to predict the next token based on prefix, we feed the right shifted target sequence as the decoder input.\n",
        "    - generally, prepending bos to the target would do the job (as shown below)\n",
        "![seq2seq](https://i.imgur.com/0zeDyuI.png)\n",
        "    - in fairseq however, this is done by moving the eos token to the begining. Empirically, this has the same effect. For instance:\n",
        "    ```\n",
        "    # output target (target) and Decoder input (prev_output_tokens): \n",
        "                   eos = 2\n",
        "                target = 419,  711,  238,  888,  792,   60,  968,    8,    2\n",
        "    prev_output_tokens = 2,  419,  711,  238,  888,  792,   60,  968,    8\n",
        "    ```\n",
        "\n"
      ]
    },
    {
      "cell_type": "code",
      "execution_count": 65,
      "metadata": {
        "id": "OWFJFmCnMDXW"
      },
      "outputs": [
        {
          "name": "stdout",
          "output_type": "stream",
          "text": [
            "2022-04-08 13:21:04 | WARNING | fairseq.tasks.fairseq_task | 2,487 samples have invalid sizes and will be skipped, max_positions=(20, 20), first few sample ids=[3683, 3508, 491, 1575, 588, 990, 3905, 1856, 865, 1153]\n"
          ]
        },
        {
          "data": {
            "text/plain": [
              "{'id': tensor([3903, 2860, 2353]),\n",
              " 'nsentences': 3,\n",
              " 'ntokens': 18,\n",
              " 'net_input': {'src_tokens': tensor([[   1,    1,    1,   53,   30, 1586,   33,    2],\n",
              "          [   1,    1,    1,    5, 2381, 2896,   10,    2],\n",
              "          [   1,    1,    1,   53, 1643, 1020,  393,    2]]),\n",
              "  'src_lengths': tensor([5, 5, 5]),\n",
              "  'prev_output_tokens': tensor([[   2,   35,  172,   48,   22,   33,    1,    1],\n",
              "          [   2,    8,  586, 2297,    6,    7,    1,    1],\n",
              "          [   2,   22,   88,   56, 1140,    7,    1,    1]])},\n",
              " 'target': tensor([[  35,  172,   48,   22,   33,    2,    1,    1],\n",
              "         [   8,  586, 2297,    6,    7,    2,    1,    1],\n",
              "         [  22,   88,   56, 1140,    7,    2,    1,    1]])}"
            ]
          },
          "execution_count": 65,
          "metadata": {},
          "output_type": "execute_result"
        }
      ],
      "source": [
        "def load_data_iterator(task, split, epoch=1, max_tokens=4000, num_workers=1, cached=True):\n",
        "    batch_iterator = task.get_batch_iterator(\n",
        "        dataset=task.dataset(split),\n",
        "        max_tokens=max_tokens,\n",
        "        max_sentences=None,\n",
        "        max_positions=utils.resolve_max_positions(\n",
        "            task.max_positions(),\n",
        "            max_tokens,\n",
        "        ),\n",
        "        ignore_invalid_inputs=True,\n",
        "        seed=seed,\n",
        "        num_workers=num_workers,\n",
        "        epoch=epoch,\n",
        "        disable_iterator_cache=not cached,\n",
        "        # Set this to False to speed up. However, if set to False, changing max_tokens beyond \n",
        "        # first call of this method has no effect. \n",
        "    )\n",
        "    return batch_iterator\n",
        "\n",
        "demo_epoch_obj = load_data_iterator(task, \"valid\", epoch=1, max_tokens=20, num_workers=1, cached=False)\n",
        "demo_iter = demo_epoch_obj.next_epoch_itr(shuffle=True)\n",
        "sample = next(demo_iter)\n",
        "sample"
      ]
    },
    {
      "cell_type": "markdown",
      "metadata": {
        "id": "p86K-0g7Me4M"
      },
      "source": [
        "* each batch is a python dict, with string key and Tensor value. Contents are described below:\n",
        "```python\n",
        "batch = {\n",
        "    \"id\": id, # id for each example \n",
        "    \"nsentences\": len(samples), # batch size (sentences)\n",
        "    \"ntokens\": ntokens, # batch size (tokens)\n",
        "    \"net_input\": {\n",
        "        \"src_tokens\": src_tokens, # sequence in source language\n",
        "        \"src_lengths\": src_lengths, # sequence length of each example before padding\n",
        "        \"prev_output_tokens\": prev_output_tokens, # right shifted target, as mentioned above.\n",
        "    },\n",
        "    \"target\": target, # target sequence\n",
        "}\n",
        "```"
      ]
    },
    {
      "cell_type": "markdown",
      "metadata": {
        "id": "9EyDBE5ZMkFZ"
      },
      "source": [
        "# Model Architecture\n",
        "* We again inherit fairseq's encoder, decoder and model, so that in the testing phase we can directly leverage fairseq's beam search decoder."
      ]
    },
    {
      "cell_type": "code",
      "execution_count": 66,
      "metadata": {
        "id": "Hzh74qLIMfW_"
      },
      "outputs": [],
      "source": [
        "from fairseq.models import (\n",
        "    FairseqEncoder, \n",
        "    FairseqIncrementalDecoder,\n",
        "    FairseqEncoderDecoderModel\n",
        ")"
      ]
    },
    {
      "cell_type": "markdown",
      "metadata": {
        "id": "6ZlE_1JnMv56"
      },
      "source": [
        "## Attention"
      ]
    },
    {
      "cell_type": "markdown",
      "metadata": {
        "id": "ZSFSKt_ZMzgh"
      },
      "source": [
        "- When the input sequence is long, \"content vector\" alone cannot accurately represent the whole sequence, attention mechanism can provide the Decoder more information.\n",
        "- According to the **Decoder embeddings** of the current timestep, match the **Encoder outputs** with decoder embeddings to determine correlation, and then sum the Encoder outputs weighted by the correlation as the input to **Decoder** RNN.\n",
        "- Common attention implementations use neural network / dot product as the correlation between **query** (decoder embeddings) and **key** (Encoder outputs), followed by **softmax**  to obtain a distribution, and finally **values** (Encoder outputs) is **weighted sum**-ed by said distribution.\n",
        "\n",
        "- Parameters:\n",
        "  - *input_embed_dim*: dimensionality of key, should be that of the vector in decoder to attend others\n",
        "  - *source_embed_dim*: dimensionality of query, should be that of the vector to be attended to (encoder outputs)\n",
        "  - *output_embed_dim*: dimensionality of value, should be that of the vector after attention, expected by the next layer\n",
        "\n",
        "- Inputs: \n",
        "    - *inputs*: is the key, the vector to attend to others\n",
        "    - *encoder_outputs*:  is the query/value, the vector to be attended to\n",
        "    - *encoder_padding_mask*: this tells the decoder which position to ignore\n",
        "- Outputs: \n",
        "    - *output*: the context vector after attention\n",
        "    - *attention score*: the attention distribution\n"
      ]
    },
    {
      "cell_type": "code",
      "execution_count": 67,
      "metadata": {
        "id": "1Atf_YuCMyyF"
      },
      "outputs": [],
      "source": [
        "class AttentionLayer(nn.Module):\n",
        "    def __init__(self, input_embed_dim, source_embed_dim, output_embed_dim, bias=False):\n",
        "        super().__init__()\n",
        "\n",
        "        self.input_proj = nn.Linear(input_embed_dim, source_embed_dim, bias=bias)\n",
        "        self.output_proj = nn.Linear(\n",
        "            input_embed_dim + source_embed_dim, output_embed_dim, bias=bias\n",
        "        )\n",
        "\n",
        "    def forward(self, inputs, encoder_outputs, encoder_padding_mask):\n",
        "        # inputs: T, B, dim\n",
        "        # encoder_outputs: S x B x dim\n",
        "        # padding mask:  S x B\n",
        "        \n",
        "        # convert all to batch first\n",
        "        inputs = inputs.transpose(1,0) # B, T, dim\n",
        "        encoder_outputs = encoder_outputs.transpose(1,0) # B, S, dim\n",
        "        encoder_padding_mask = encoder_padding_mask.transpose(1,0) # B, S\n",
        "        \n",
        "        # project to the dimensionality of encoder_outputs\n",
        "        x = self.input_proj(inputs)\n",
        "\n",
        "        # compute attention\n",
        "        # (B, T, dim) x (B, dim, S) = (B, T, S)\n",
        "        attn_scores = torch.bmm(x, encoder_outputs.transpose(1,2))\n",
        "\n",
        "        # cancel the attention at positions corresponding to padding\n",
        "        if encoder_padding_mask is not None:\n",
        "            # leveraging broadcast  B, S -> (B, 1, S)\n",
        "            encoder_padding_mask = encoder_padding_mask.unsqueeze(1)\n",
        "            attn_scores = (\n",
        "                attn_scores.float()\n",
        "                .masked_fill_(encoder_padding_mask, float(\"-inf\"))\n",
        "                .type_as(attn_scores)\n",
        "            )  # FP16 support: cast to float and back\n",
        "\n",
        "        # softmax on the dimension corresponding to source sequence\n",
        "        attn_scores = F.softmax(attn_scores, dim=-1)\n",
        "\n",
        "        # shape (B, T, S) x (B, S, dim) = (B, T, dim) weighted sum\n",
        "        x = torch.bmm(attn_scores, encoder_outputs)\n",
        "\n",
        "        # (B, T, dim)\n",
        "        x = torch.cat((x, inputs), dim=-1)\n",
        "        x = torch.tanh(self.output_proj(x)) # concat + linear + tanh\n",
        "        \n",
        "        # restore shape (B, T, dim) -> (T, B, dim)\n",
        "        return x.transpose(1,0), attn_scores"
      ]
    },
    {
      "cell_type": "markdown",
      "metadata": {
        "id": "UDAPmxjRNEEL"
      },
      "source": [
        "## Seq2Seq\n",
        "- Composed of **Encoder** and **Decoder**\n",
        "- Recieves inputs and pass to **Encoder** \n",
        "- Pass the outputs from **Encoder** to **Decoder**\n",
        "- **Decoder** will decode according to outputs of previous timesteps as well as **Encoder** outputs  \n",
        "- Once done decoding, return the **Decoder** outputs"
      ]
    },
    {
      "cell_type": "code",
      "execution_count": 68,
      "metadata": {
        "id": "oRwKdLa0NEU6"
      },
      "outputs": [],
      "source": [
        "class Seq2Seq(FairseqEncoderDecoderModel):\n",
        "    def __init__(self, args, encoder, decoder):\n",
        "        super().__init__(encoder, decoder)\n",
        "        self.args = args\n",
        "    \n",
        "    def forward(\n",
        "        self,\n",
        "        src_tokens,\n",
        "        src_lengths,\n",
        "        prev_output_tokens,\n",
        "        return_all_hiddens: bool = True,\n",
        "    ):\n",
        "        \"\"\"\n",
        "        Run the forward pass for an encoder-decoder model.\n",
        "        \"\"\"\n",
        "        encoder_out = self.encoder(\n",
        "            src_tokens, src_lengths=src_lengths, return_all_hiddens=return_all_hiddens\n",
        "        )\n",
        "        logits, extra = self.decoder(\n",
        "            prev_output_tokens,\n",
        "            encoder_out=encoder_out,\n",
        "            src_lengths=src_lengths,\n",
        "            return_all_hiddens=return_all_hiddens,\n",
        "        )\n",
        "        return logits, extra"
      ]
    },
    {
      "cell_type": "markdown",
      "metadata": {
        "id": "zu3C2JfqNHzk"
      },
      "source": [
        "# Model Initialization"
      ]
    },
    {
      "cell_type": "code",
      "execution_count": 69,
      "metadata": {
        "id": "nyI9FOx-NJ2m"
      },
      "outputs": [],
      "source": [
        "# # HINT: transformer architecture\n",
        "from fairseq.models.transformer import (\n",
        "    TransformerEncoder, \n",
        "    TransformerDecoder,\n",
        ")\n",
        "\n",
        "def build_model(args, task):\n",
        "    \"\"\" build a model instance based on hyperparameters \"\"\"\n",
        "    src_dict, tgt_dict = task.source_dictionary, task.target_dictionary\n",
        "\n",
        "    # token embeddings\n",
        "    encoder_embed_tokens = nn.Embedding(len(src_dict), args.encoder_embed_dim, src_dict.pad())\n",
        "    decoder_embed_tokens = nn.Embedding(len(tgt_dict), args.decoder_embed_dim, tgt_dict.pad())\n",
        "    \n",
        "    # encoder decoder\n",
        "    # HINT: TODO: switch to TransformerEncoder & TransformerDecoder\n",
        "    # encoder = RNNEncoder(args, src_dict, encoder_embed_tokens)\n",
        "    # decoder = RNNDecoder(args, tgt_dict, decoder_embed_tokens)\n",
        "    encoder = TransformerEncoder(args, src_dict, encoder_embed_tokens)\n",
        "    decoder = TransformerDecoder(args, tgt_dict, decoder_embed_tokens)\n",
        "\n",
        "    # sequence to sequence model\n",
        "    model = Seq2Seq(args, encoder, decoder)\n",
        "    \n",
        "    # initialization for seq2seq model is important, requires extra handling\n",
        "    def init_params(module):\n",
        "        from fairseq.modules import MultiheadAttention\n",
        "        if isinstance(module, nn.Linear):\n",
        "            module.weight.data.normal_(mean=0.0, std=0.02)\n",
        "            if module.bias is not None:\n",
        "                module.bias.data.zero_()\n",
        "        if isinstance(module, nn.Embedding):\n",
        "            module.weight.data.normal_(mean=0.0, std=0.02)\n",
        "            if module.padding_idx is not None:\n",
        "                module.weight.data[module.padding_idx].zero_()\n",
        "        if isinstance(module, MultiheadAttention):\n",
        "            module.q_proj.weight.data.normal_(mean=0.0, std=0.02)\n",
        "            module.k_proj.weight.data.normal_(mean=0.0, std=0.02)\n",
        "            module.v_proj.weight.data.normal_(mean=0.0, std=0.02)\n",
        "        if isinstance(module, nn.RNNBase):\n",
        "            for name, param in module.named_parameters():\n",
        "                if \"weight\" in name or \"bias\" in name:\n",
        "                    param.data.uniform_(-0.1, 0.1)\n",
        "            \n",
        "    # weight initialization\n",
        "    model.apply(init_params)\n",
        "    return model"
      ]
    },
    {
      "cell_type": "markdown",
      "metadata": {
        "id": "ce5n4eS7NQNy"
      },
      "source": [
        "## Architecture Related Configuration\n",
        "\n",
        "For strong baseline, please refer to the hyperparameters for *transformer-base* in Table 3 in [Attention is all you need](#vaswani2017)"
      ]
    },
    {
      "cell_type": "code",
      "execution_count": 70,
      "metadata": {
        "id": "Cyn30VoGNT6N"
      },
      "outputs": [],
      "source": [
        "arch_args = Namespace(\n",
        "    encoder_embed_dim=256,\n",
        "    encoder_ffn_embed_dim=2048,\n",
        "    encoder_layers=4,\n",
        "    decoder_embed_dim=256,\n",
        "    decoder_ffn_embed_dim=2048,\n",
        "    decoder_layers=4,\n",
        "    share_decoder_input_output_embed=True,\n",
        "    dropout=0.1,\n",
        ")\n",
        "\n",
        "# HINT: these patches on parameters for Transformer\n",
        "def add_transformer_args(args):\n",
        "    args.encoder_attention_heads=4\n",
        "    args.encoder_normalize_before=True\n",
        "    \n",
        "    args.decoder_attention_heads=4\n",
        "    args.decoder_normalize_before=True\n",
        "    \n",
        "    args.activation_fn=\"relu\"\n",
        "    args.max_source_positions=1024\n",
        "    args.max_target_positions=1024\n",
        "    \n",
        "    # patches on default parameters for Transformer (those not set above)\n",
        "    from fairseq.models.transformer import base_architecture\n",
        "    base_architecture(arch_args)\n",
        "\n",
        "add_transformer_args(arch_args)"
      ]
    },
    {
      "cell_type": "code",
      "execution_count": 71,
      "metadata": {
        "id": "Nbb76QLCNZZZ"
      },
      "outputs": [],
      "source": [
        "if config.use_wandb:\n",
        "    wandb.config.update(vars(arch_args))"
      ]
    },
    {
      "cell_type": "code",
      "execution_count": 72,
      "metadata": {
        "id": "7ZWfxsCDNatH"
      },
      "outputs": [
        {
          "name": "stdout",
          "output_type": "stream",
          "text": [
            "2022-04-08 13:21:04 | INFO | hw5.seq2seq | Seq2Seq(\n",
            "  (encoder): TransformerEncoder(\n",
            "    (dropout_module): FairseqDropout()\n",
            "    (embed_tokens): Embedding(8000, 256, padding_idx=1)\n",
            "    (embed_positions): SinusoidalPositionalEmbedding()\n",
            "    (layers): ModuleList(\n",
            "      (0): TransformerEncoderLayer(\n",
            "        (self_attn): MultiheadAttention(\n",
            "          (dropout_module): FairseqDropout()\n",
            "          (k_proj): Linear(in_features=256, out_features=256, bias=True)\n",
            "          (v_proj): Linear(in_features=256, out_features=256, bias=True)\n",
            "          (q_proj): Linear(in_features=256, out_features=256, bias=True)\n",
            "          (out_proj): Linear(in_features=256, out_features=256, bias=True)\n",
            "        )\n",
            "        (self_attn_layer_norm): LayerNorm((256,), eps=1e-05, elementwise_affine=True)\n",
            "        (dropout_module): FairseqDropout()\n",
            "        (activation_dropout_module): FairseqDropout()\n",
            "        (fc1): Linear(in_features=256, out_features=2048, bias=True)\n",
            "        (fc2): Linear(in_features=2048, out_features=256, bias=True)\n",
            "        (final_layer_norm): LayerNorm((256,), eps=1e-05, elementwise_affine=True)\n",
            "      )\n",
            "      (1): TransformerEncoderLayer(\n",
            "        (self_attn): MultiheadAttention(\n",
            "          (dropout_module): FairseqDropout()\n",
            "          (k_proj): Linear(in_features=256, out_features=256, bias=True)\n",
            "          (v_proj): Linear(in_features=256, out_features=256, bias=True)\n",
            "          (q_proj): Linear(in_features=256, out_features=256, bias=True)\n",
            "          (out_proj): Linear(in_features=256, out_features=256, bias=True)\n",
            "        )\n",
            "        (self_attn_layer_norm): LayerNorm((256,), eps=1e-05, elementwise_affine=True)\n",
            "        (dropout_module): FairseqDropout()\n",
            "        (activation_dropout_module): FairseqDropout()\n",
            "        (fc1): Linear(in_features=256, out_features=2048, bias=True)\n",
            "        (fc2): Linear(in_features=2048, out_features=256, bias=True)\n",
            "        (final_layer_norm): LayerNorm((256,), eps=1e-05, elementwise_affine=True)\n",
            "      )\n",
            "      (2): TransformerEncoderLayer(\n",
            "        (self_attn): MultiheadAttention(\n",
            "          (dropout_module): FairseqDropout()\n",
            "          (k_proj): Linear(in_features=256, out_features=256, bias=True)\n",
            "          (v_proj): Linear(in_features=256, out_features=256, bias=True)\n",
            "          (q_proj): Linear(in_features=256, out_features=256, bias=True)\n",
            "          (out_proj): Linear(in_features=256, out_features=256, bias=True)\n",
            "        )\n",
            "        (self_attn_layer_norm): LayerNorm((256,), eps=1e-05, elementwise_affine=True)\n",
            "        (dropout_module): FairseqDropout()\n",
            "        (activation_dropout_module): FairseqDropout()\n",
            "        (fc1): Linear(in_features=256, out_features=2048, bias=True)\n",
            "        (fc2): Linear(in_features=2048, out_features=256, bias=True)\n",
            "        (final_layer_norm): LayerNorm((256,), eps=1e-05, elementwise_affine=True)\n",
            "      )\n",
            "      (3): TransformerEncoderLayer(\n",
            "        (self_attn): MultiheadAttention(\n",
            "          (dropout_module): FairseqDropout()\n",
            "          (k_proj): Linear(in_features=256, out_features=256, bias=True)\n",
            "          (v_proj): Linear(in_features=256, out_features=256, bias=True)\n",
            "          (q_proj): Linear(in_features=256, out_features=256, bias=True)\n",
            "          (out_proj): Linear(in_features=256, out_features=256, bias=True)\n",
            "        )\n",
            "        (self_attn_layer_norm): LayerNorm((256,), eps=1e-05, elementwise_affine=True)\n",
            "        (dropout_module): FairseqDropout()\n",
            "        (activation_dropout_module): FairseqDropout()\n",
            "        (fc1): Linear(in_features=256, out_features=2048, bias=True)\n",
            "        (fc2): Linear(in_features=2048, out_features=256, bias=True)\n",
            "        (final_layer_norm): LayerNorm((256,), eps=1e-05, elementwise_affine=True)\n",
            "      )\n",
            "    )\n",
            "    (layer_norm): LayerNorm((256,), eps=1e-05, elementwise_affine=True)\n",
            "  )\n",
            "  (decoder): TransformerDecoder(\n",
            "    (dropout_module): FairseqDropout()\n",
            "    (embed_tokens): Embedding(8000, 256, padding_idx=1)\n",
            "    (embed_positions): SinusoidalPositionalEmbedding()\n",
            "    (layers): ModuleList(\n",
            "      (0): TransformerDecoderLayer(\n",
            "        (dropout_module): FairseqDropout()\n",
            "        (self_attn): MultiheadAttention(\n",
            "          (dropout_module): FairseqDropout()\n",
            "          (k_proj): Linear(in_features=256, out_features=256, bias=True)\n",
            "          (v_proj): Linear(in_features=256, out_features=256, bias=True)\n",
            "          (q_proj): Linear(in_features=256, out_features=256, bias=True)\n",
            "          (out_proj): Linear(in_features=256, out_features=256, bias=True)\n",
            "        )\n",
            "        (activation_dropout_module): FairseqDropout()\n",
            "        (self_attn_layer_norm): LayerNorm((256,), eps=1e-05, elementwise_affine=True)\n",
            "        (encoder_attn): MultiheadAttention(\n",
            "          (dropout_module): FairseqDropout()\n",
            "          (k_proj): Linear(in_features=256, out_features=256, bias=True)\n",
            "          (v_proj): Linear(in_features=256, out_features=256, bias=True)\n",
            "          (q_proj): Linear(in_features=256, out_features=256, bias=True)\n",
            "          (out_proj): Linear(in_features=256, out_features=256, bias=True)\n",
            "        )\n",
            "        (encoder_attn_layer_norm): LayerNorm((256,), eps=1e-05, elementwise_affine=True)\n",
            "        (fc1): Linear(in_features=256, out_features=2048, bias=True)\n",
            "        (fc2): Linear(in_features=2048, out_features=256, bias=True)\n",
            "        (final_layer_norm): LayerNorm((256,), eps=1e-05, elementwise_affine=True)\n",
            "      )\n",
            "      (1): TransformerDecoderLayer(\n",
            "        (dropout_module): FairseqDropout()\n",
            "        (self_attn): MultiheadAttention(\n",
            "          (dropout_module): FairseqDropout()\n",
            "          (k_proj): Linear(in_features=256, out_features=256, bias=True)\n",
            "          (v_proj): Linear(in_features=256, out_features=256, bias=True)\n",
            "          (q_proj): Linear(in_features=256, out_features=256, bias=True)\n",
            "          (out_proj): Linear(in_features=256, out_features=256, bias=True)\n",
            "        )\n",
            "        (activation_dropout_module): FairseqDropout()\n",
            "        (self_attn_layer_norm): LayerNorm((256,), eps=1e-05, elementwise_affine=True)\n",
            "        (encoder_attn): MultiheadAttention(\n",
            "          (dropout_module): FairseqDropout()\n",
            "          (k_proj): Linear(in_features=256, out_features=256, bias=True)\n",
            "          (v_proj): Linear(in_features=256, out_features=256, bias=True)\n",
            "          (q_proj): Linear(in_features=256, out_features=256, bias=True)\n",
            "          (out_proj): Linear(in_features=256, out_features=256, bias=True)\n",
            "        )\n",
            "        (encoder_attn_layer_norm): LayerNorm((256,), eps=1e-05, elementwise_affine=True)\n",
            "        (fc1): Linear(in_features=256, out_features=2048, bias=True)\n",
            "        (fc2): Linear(in_features=2048, out_features=256, bias=True)\n",
            "        (final_layer_norm): LayerNorm((256,), eps=1e-05, elementwise_affine=True)\n",
            "      )\n",
            "      (2): TransformerDecoderLayer(\n",
            "        (dropout_module): FairseqDropout()\n",
            "        (self_attn): MultiheadAttention(\n",
            "          (dropout_module): FairseqDropout()\n",
            "          (k_proj): Linear(in_features=256, out_features=256, bias=True)\n",
            "          (v_proj): Linear(in_features=256, out_features=256, bias=True)\n",
            "          (q_proj): Linear(in_features=256, out_features=256, bias=True)\n",
            "          (out_proj): Linear(in_features=256, out_features=256, bias=True)\n",
            "        )\n",
            "        (activation_dropout_module): FairseqDropout()\n",
            "        (self_attn_layer_norm): LayerNorm((256,), eps=1e-05, elementwise_affine=True)\n",
            "        (encoder_attn): MultiheadAttention(\n",
            "          (dropout_module): FairseqDropout()\n",
            "          (k_proj): Linear(in_features=256, out_features=256, bias=True)\n",
            "          (v_proj): Linear(in_features=256, out_features=256, bias=True)\n",
            "          (q_proj): Linear(in_features=256, out_features=256, bias=True)\n",
            "          (out_proj): Linear(in_features=256, out_features=256, bias=True)\n",
            "        )\n",
            "        (encoder_attn_layer_norm): LayerNorm((256,), eps=1e-05, elementwise_affine=True)\n",
            "        (fc1): Linear(in_features=256, out_features=2048, bias=True)\n",
            "        (fc2): Linear(in_features=2048, out_features=256, bias=True)\n",
            "        (final_layer_norm): LayerNorm((256,), eps=1e-05, elementwise_affine=True)\n",
            "      )\n",
            "      (3): TransformerDecoderLayer(\n",
            "        (dropout_module): FairseqDropout()\n",
            "        (self_attn): MultiheadAttention(\n",
            "          (dropout_module): FairseqDropout()\n",
            "          (k_proj): Linear(in_features=256, out_features=256, bias=True)\n",
            "          (v_proj): Linear(in_features=256, out_features=256, bias=True)\n",
            "          (q_proj): Linear(in_features=256, out_features=256, bias=True)\n",
            "          (out_proj): Linear(in_features=256, out_features=256, bias=True)\n",
            "        )\n",
            "        (activation_dropout_module): FairseqDropout()\n",
            "        (self_attn_layer_norm): LayerNorm((256,), eps=1e-05, elementwise_affine=True)\n",
            "        (encoder_attn): MultiheadAttention(\n",
            "          (dropout_module): FairseqDropout()\n",
            "          (k_proj): Linear(in_features=256, out_features=256, bias=True)\n",
            "          (v_proj): Linear(in_features=256, out_features=256, bias=True)\n",
            "          (q_proj): Linear(in_features=256, out_features=256, bias=True)\n",
            "          (out_proj): Linear(in_features=256, out_features=256, bias=True)\n",
            "        )\n",
            "        (encoder_attn_layer_norm): LayerNorm((256,), eps=1e-05, elementwise_affine=True)\n",
            "        (fc1): Linear(in_features=256, out_features=2048, bias=True)\n",
            "        (fc2): Linear(in_features=2048, out_features=256, bias=True)\n",
            "        (final_layer_norm): LayerNorm((256,), eps=1e-05, elementwise_affine=True)\n",
            "      )\n",
            "    )\n",
            "    (layer_norm): LayerNorm((256,), eps=1e-05, elementwise_affine=True)\n",
            "    (output_projection): Linear(in_features=256, out_features=8000, bias=False)\n",
            "  )\n",
            ")\n"
          ]
        }
      ],
      "source": [
        "model = build_model(arch_args, task)\n",
        "logger.info(model)"
      ]
    },
    {
      "cell_type": "markdown",
      "metadata": {
        "id": "aHll7GRNNdqc"
      },
      "source": [
        "# Optimization"
      ]
    },
    {
      "cell_type": "markdown",
      "metadata": {
        "id": "rUB9f1WCNgMH"
      },
      "source": [
        "## Loss: Label Smoothing Regularization\n",
        "* let the model learn to generate less concentrated distribution, and prevent over-confidence\n",
        "* sometimes the ground truth may not be the only answer. thus, when calculating loss, we reserve some probability for incorrect labels\n",
        "* avoids overfitting\n",
        "\n",
        "code [source](https://fairseq.readthedocs.io/en/latest/_modules/fairseq/criterions/label_smoothed_cross_entropy.html)"
      ]
    },
    {
      "cell_type": "code",
      "execution_count": 73,
      "metadata": {
        "id": "IgspdJn0NdYF"
      },
      "outputs": [],
      "source": [
        "class LabelSmoothedCrossEntropyCriterion(nn.Module):\n",
        "    def __init__(self, smoothing, ignore_index=None, reduce=True):\n",
        "        super().__init__()\n",
        "        self.smoothing = smoothing\n",
        "        self.ignore_index = ignore_index\n",
        "        self.reduce = reduce\n",
        "    \n",
        "    def forward(self, lprobs, target):\n",
        "        if target.dim() == lprobs.dim() - 1:\n",
        "            target = target.unsqueeze(-1)\n",
        "        # nll: Negative log likelihood，the cross-entropy when target is one-hot. following line is same as F.nll_loss\n",
        "        nll_loss = -lprobs.gather(dim=-1, index=target)\n",
        "        #  reserve some probability for other labels. thus when calculating cross-entropy, \n",
        "        # equivalent to summing the log probs of all labels\n",
        "        smooth_loss = -lprobs.sum(dim=-1, keepdim=True)\n",
        "        if self.ignore_index is not None:\n",
        "            pad_mask = target.eq(self.ignore_index)\n",
        "            nll_loss.masked_fill_(pad_mask, 0.0)\n",
        "            smooth_loss.masked_fill_(pad_mask, 0.0)\n",
        "        else:\n",
        "            nll_loss = nll_loss.squeeze(-1)\n",
        "            smooth_loss = smooth_loss.squeeze(-1)\n",
        "        if self.reduce:\n",
        "            nll_loss = nll_loss.sum()\n",
        "            smooth_loss = smooth_loss.sum()\n",
        "        # when calculating cross-entropy, add the loss of other labels\n",
        "        eps_i = self.smoothing / lprobs.size(-1)\n",
        "        loss = (1.0 - self.smoothing) * nll_loss + eps_i * smooth_loss\n",
        "        return loss\n",
        "\n",
        "# generally, 0.1 is good enough\n",
        "criterion = LabelSmoothedCrossEntropyCriterion(\n",
        "    smoothing=0.1,\n",
        "    ignore_index=task.target_dictionary.pad(),\n",
        ")"
      ]
    },
    {
      "cell_type": "markdown",
      "metadata": {
        "id": "aRalDto2NkJJ"
      },
      "source": [
        "## Optimizer: Adam + lr scheduling\n",
        "Inverse square root scheduling is important to the stability when training Transformer. It's later used on RNN as well.\n",
        "Update the learning rate according to the following equation. Linearly increase the first stage, then decay proportionally to the inverse square root of timestep.\n",
        "$$lrate = d_{\\text{model}}^{-0.5}\\cdot\\min({step\\_num}^{-0.5},{step\\_num}\\cdot{warmup\\_steps}^{-1.5})$$"
      ]
    },
    {
      "cell_type": "code",
      "execution_count": 74,
      "metadata": {
        "id": "sS7tQj1ROBYm"
      },
      "outputs": [],
      "source": [
        "def get_rate(d_model, step_num, warmup_step):\n",
        "    # TODO: Change lr from constant to the equation shown above\n",
        "    lr =  d_model** (-0.5) * min(step_num ** (-0.5), step_num * warmup_step ** (-1.5))\n",
        "    return lr"
      ]
    },
    {
      "cell_type": "code",
      "execution_count": 75,
      "metadata": {
        "id": "J8hoAjHPNkh3"
      },
      "outputs": [],
      "source": [
        "class NoamOpt:\n",
        "    \"Optim wrapper that implements rate.\"\n",
        "    def __init__(self, model_size, factor, warmup, optimizer):\n",
        "        self.optimizer = optimizer\n",
        "        self._step = 0\n",
        "        self.warmup = warmup\n",
        "        self.factor = factor\n",
        "        self.model_size = model_size\n",
        "        self._rate = 0\n",
        "    \n",
        "    @property\n",
        "    def param_groups(self):\n",
        "        return self.optimizer.param_groups\n",
        "        \n",
        "    def multiply_grads(self, c):\n",
        "        \"\"\"Multiplies grads by a constant *c*.\"\"\"                \n",
        "        for group in self.param_groups:\n",
        "            for p in group['params']:\n",
        "                if p.grad is not None:\n",
        "                    p.grad.data.mul_(c)\n",
        "        \n",
        "    def step(self):\n",
        "        \"Update parameters and rate\"\n",
        "        self._step += 1\n",
        "        rate = self.rate()\n",
        "        for p in self.param_groups:\n",
        "            p['lr'] = rate\n",
        "        self._rate = rate\n",
        "        self.optimizer.step()\n",
        "        \n",
        "    def rate(self, step = None):\n",
        "        \"Implement `lrate` above\"\n",
        "        if step is None:\n",
        "            step = self._step\n",
        "        return 0 if not step else self.factor * get_rate(self.model_size, step, self.warmup)"
      ]
    },
    {
      "cell_type": "markdown",
      "metadata": {
        "id": "VFJlkOMONsc6"
      },
      "source": [
        "## Scheduling Visualized"
      ]
    },
    {
      "cell_type": "code",
      "execution_count": 76,
      "metadata": {
        "id": "A135fwPCNrQs"
      },
      "outputs": [
        {
          "data": {
            "image/png": "[encoded data removed]",
            "text/plain": [
              "<Figure size 432x288 with 1 Axes>"
            ]
          },
          "metadata": {
            "needs_background": "light"
          },
          "output_type": "display_data"
        }
      ],
      "source": [
        "optimizer = NoamOpt(\n",
        "    model_size=arch_args.encoder_embed_dim, \n",
        "    factor=config.lr_factor, \n",
        "    warmup=config.lr_warmup, \n",
        "    optimizer=torch.optim.AdamW(model.parameters(), lr=0, betas=(0.9, 0.98), eps=1e-9, weight_decay=0.0001))\n",
        "plt.plot(np.arange(1, 100000), [optimizer.rate(i) for i in range(1, 100000)])\n",
        "plt.legend([f\"{optimizer.model_size}:{optimizer.warmup}\"])\n",
        "None"
      ]
    },
    {
      "cell_type": "markdown",
      "metadata": {
        "id": "TOR0g-cVO5ZO"
      },
      "source": [
        "# Training Procedure"
      ]
    },
    {
      "cell_type": "markdown",
      "metadata": {
        "id": "f-0ZjbK3O8Iv"
      },
      "source": [
        "## Training"
      ]
    },
    {
      "cell_type": "code",
      "execution_count": 77,
      "metadata": {},
      "outputs": [],
      "source": [
        "grad_norm = []"
      ]
    },
    {
      "cell_type": "code",
      "execution_count": 78,
      "metadata": {
        "id": "foal3xM1O404"
      },
      "outputs": [],
      "source": [
        "from fairseq.data import iterators\n",
        "from torch.cuda.amp import GradScaler, autocast\n",
        "\n",
        "def train_one_epoch(epoch_itr, model, task, criterion, optimizer, accum_steps=1):\n",
        "    itr = epoch_itr.next_epoch_itr(shuffle=True)\n",
        "    itr = iterators.GroupedIterator(itr, accum_steps) # gradient accumulation: update every accum_steps samples\n",
        "    \n",
        "    stats = {\"loss\": []}\n",
        "    scaler = GradScaler() # automatic mixed precision (amp) \n",
        "    \n",
        "    model.train()\n",
        "    progress = tqdm.tqdm(itr, desc=f\"train epoch {epoch_itr.epoch}\", leave=False)\n",
        "    for samples in progress:\n",
        "        model.zero_grad()\n",
        "        accum_loss = 0\n",
        "        sample_size = 0\n",
        "        # gradient accumulation: update every accum_steps samples\n",
        "        for i, sample in enumerate(samples):\n",
        "            if i == 1:\n",
        "                # emptying the CUDA cache after the first step can reduce the chance of OOM\n",
        "                torch.cuda.empty_cache()\n",
        "\n",
        "            sample = utils.move_to_cuda(sample, device=device)\n",
        "            target = sample[\"target\"]\n",
        "            sample_size_i = sample[\"ntokens\"]\n",
        "            sample_size += sample_size_i\n",
        "            \n",
        "            # mixed precision training\n",
        "            with autocast():\n",
        "                net_output = model.forward(**sample[\"net_input\"])\n",
        "                lprobs = F.log_softmax(net_output[0], -1)            \n",
        "                loss = criterion(lprobs.view(-1, lprobs.size(-1)), target.view(-1))\n",
        "                \n",
        "                # logging\n",
        "                accum_loss += loss.item()\n",
        "                # back-prop\n",
        "                scaler.scale(loss).backward()                \n",
        "        \n",
        "        scaler.unscale_(optimizer)\n",
        "        optimizer.multiply_grads(1 / (sample_size or 1.0)) # (sample_size or 1.0) handles the case of a zero gradient\n",
        "        gnorm = nn.utils.clip_grad_norm_(model.parameters(), config.clip_norm) # grad norm clipping prevents gradient exploding\n",
        "        grad_norm.append(gnorm)\n",
        "\n",
        "        scaler.step(optimizer)\n",
        "        scaler.update()\n",
        "        \n",
        "        # logging\n",
        "        loss_print = accum_loss/sample_size\n",
        "        stats[\"loss\"].append(loss_print)\n",
        "        progress.set_postfix(loss=loss_print)\n",
        "        if config.use_wandb:\n",
        "            wandb.log({\n",
        "                \"train/loss\": loss_print,\n",
        "                \"train/grad_norm\": gnorm.item(),\n",
        "                \"train/lr\": optimizer.rate(),\n",
        "                \"train/sample_size\": sample_size,\n",
        "            })\n",
        "        \n",
        "    loss_print = np.mean(stats[\"loss\"])\n",
        "    logger.info(f\"training loss: {loss_print:.4f}\")\n",
        "    return stats"
      ]
    },
    {
      "cell_type": "markdown",
      "metadata": {
        "id": "Gt1lX3DRO_yU"
      },
      "source": [
        "## Validation & Inference\n",
        "To prevent overfitting, validation is required every epoch to validate the performance on unseen data.\n",
        "- the procedure is essensially same as training, with the addition of inference step\n",
        "- after validation we can save the model weights\n",
        "\n",
        "Validation loss alone cannot describe the actual performance of the model\n",
        "- Directly produce translation hypotheses based on current model, then calculate BLEU with the reference translation\n",
        "- We can also manually examine the hypotheses' quality\n",
        "- We use fairseq's sequence generator for beam search to generate translation hypotheses"
      ]
    },
    {
      "cell_type": "code",
      "execution_count": 79,
      "metadata": {
        "id": "2og80HYQPAKq"
      },
      "outputs": [],
      "source": [
        "# fairseq's beam search generator\n",
        "# given model and input seqeunce, produce translation hypotheses by beam search\n",
        "sequence_generator = task.build_generator([model], config)\n",
        "\n",
        "def decode(toks, dictionary):\n",
        "    # convert from Tensor to human readable sentence\n",
        "    s = dictionary.string(\n",
        "        toks.int().cpu(),\n",
        "        config.post_process,\n",
        "    )\n",
        "    return s if s else \"<unk>\"\n",
        "\n",
        "def inference_step(sample, model):\n",
        "    gen_out = sequence_generator.generate([model], sample)\n",
        "    srcs = []\n",
        "    hyps = []\n",
        "    refs = []\n",
        "    for i in range(len(gen_out)):\n",
        "        # for each sample, collect the input, hypothesis and reference, later be used to calculate BLEU\n",
        "        srcs.append(decode(\n",
        "            utils.strip_pad(sample[\"net_input\"][\"src_tokens\"][i], task.source_dictionary.pad()), \n",
        "            task.source_dictionary,\n",
        "        ))\n",
        "        hyps.append(decode(\n",
        "            gen_out[i][0][\"tokens\"], # 0 indicates using the top hypothesis in beam\n",
        "            task.target_dictionary,\n",
        "        ))\n",
        "        refs.append(decode(\n",
        "            utils.strip_pad(sample[\"target\"][i], task.target_dictionary.pad()), \n",
        "            task.target_dictionary,\n",
        "        ))\n",
        "    return srcs, hyps, refs"
      ]
    },
    {
      "cell_type": "code",
      "execution_count": 80,
      "metadata": {
        "id": "y1o7LeDkPDsd"
      },
      "outputs": [],
      "source": [
        "import shutil\n",
        "import sacrebleu\n",
        "\n",
        "def validate(model, task, criterion, log_to_wandb=True):\n",
        "    logger.info('begin validation')\n",
        "    itr = load_data_iterator(task, \"valid\", 1, config.max_tokens, config.num_workers).next_epoch_itr(shuffle=False)\n",
        "    \n",
        "    stats = {\"loss\":[], \"bleu\": 0, \"srcs\":[], \"hyps\":[], \"refs\":[]}\n",
        "    srcs = []\n",
        "    hyps = []\n",
        "    refs = []\n",
        "    \n",
        "    model.eval()\n",
        "    progress = tqdm.tqdm(itr, desc=f\"validation\", leave=False)\n",
        "    with torch.no_grad():\n",
        "        for i, sample in enumerate(progress):\n",
        "            # validation loss\n",
        "            sample = utils.move_to_cuda(sample, device=device)\n",
        "            net_output = model.forward(**sample[\"net_input\"])\n",
        "\n",
        "            lprobs = F.log_softmax(net_output[0], -1)\n",
        "            target = sample[\"target\"]\n",
        "            sample_size = sample[\"ntokens\"]\n",
        "            loss = criterion(lprobs.view(-1, lprobs.size(-1)), target.view(-1)) / sample_size\n",
        "            progress.set_postfix(valid_loss=loss.item())\n",
        "            stats[\"loss\"].append(loss)\n",
        "            \n",
        "            # do inference\n",
        "            s, h, r = inference_step(sample, model)\n",
        "            srcs.extend(s)\n",
        "            hyps.extend(h)\n",
        "            refs.extend(r)\n",
        "            \n",
        "    tok = 'zh' if task.cfg.target_lang == 'zh' else '13a'\n",
        "    stats[\"loss\"] = torch.stack(stats[\"loss\"]).mean().item()\n",
        "    stats[\"bleu\"] = sacrebleu.corpus_bleu(hyps, [refs], tokenize=tok) # 計算BLEU score\n",
        "    stats[\"srcs\"] = srcs\n",
        "    stats[\"hyps\"] = hyps\n",
        "    stats[\"refs\"] = refs\n",
        "    \n",
        "    if config.use_wandb and log_to_wandb:\n",
        "        wandb.log({\n",
        "            \"valid/loss\": stats[\"loss\"],\n",
        "            \"valid/bleu\": stats[\"bleu\"].score,\n",
        "        }, commit=False)\n",
        "    \n",
        "    showid = np.random.randint(len(hyps))\n",
        "    logger.info(\"example source: \" + srcs[showid])\n",
        "    logger.info(\"example hypothesis: \" + hyps[showid])\n",
        "    logger.info(\"example reference: \" + refs[showid])\n",
        "    \n",
        "    # show bleu results\n",
        "    logger.info(f\"validation loss:\\t{stats['loss']:.4f}\")\n",
        "    logger.info(stats[\"bleu\"].format())\n",
        "    return stats"
      ]
    },
    {
      "cell_type": "markdown",
      "metadata": {
        "id": "1sRF6nd4PGEE"
      },
      "source": [
        "# Save and Load Model Weights\n"
      ]
    },
    {
      "cell_type": "code",
      "execution_count": 81,
      "metadata": {
        "id": "edBuLlkuPGr9"
      },
      "outputs": [],
      "source": [
        "def validate_and_save(model, task, criterion, optimizer, epoch, save=True):   \n",
        "    stats = validate(model, task, criterion)\n",
        "    bleu = stats['bleu']\n",
        "    loss = stats['loss']\n",
        "    if save:\n",
        "        # save epoch checkpoints\n",
        "        savedir = Path(config.savedir).absolute()\n",
        "        savedir.mkdir(parents=True, exist_ok=True)\n",
        "        \n",
        "        check = {\n",
        "            \"model\": model.state_dict(),\n",
        "            \"stats\": {\"bleu\": bleu.score, \"loss\": loss},\n",
        "            \"optim\": {\"step\": optimizer._step}\n",
        "        }\n",
        "        torch.save(check, savedir/f\"checkpoint{epoch}.pt\")\n",
        "        shutil.copy(savedir/f\"checkpoint{epoch}.pt\", savedir/f\"checkpoint_last.pt\")\n",
        "        logger.info(f\"saved epoch checkpoint: {savedir}/checkpoint{epoch}.pt\")\n",
        "    \n",
        "        # save epoch samples\n",
        "        with open(savedir/f\"samples{epoch}.{config.source_lang}-{config.target_lang}.txt\", \"w\") as f:\n",
        "            for s, h in zip(stats[\"srcs\"], stats[\"hyps\"]):\n",
        "                f.write(f\"{s}\\t{h}\\n\")\n",
        "\n",
        "        # get best valid bleu    \n",
        "        if getattr(validate_and_save, \"best_bleu\", 0) < bleu.score:\n",
        "            validate_and_save.best_bleu = bleu.score\n",
        "            torch.save(check, savedir/f\"checkpoint_best.pt\")\n",
        "            \n",
        "        del_file = savedir / f\"checkpoint{epoch - config.keep_last_epochs}.pt\"\n",
        "        if del_file.exists():\n",
        "            del_file.unlink()\n",
        "    \n",
        "    return stats\n",
        "\n",
        "def try_load_checkpoint(model, optimizer=None, name=None):\n",
        "    name = name if name else \"checkpoint_last.pt\"\n",
        "    checkpath = Path(config.savedir)/name\n",
        "    if checkpath.exists():\n",
        "        check = torch.load(checkpath)\n",
        "        model.load_state_dict(check[\"model\"])\n",
        "        stats = check[\"stats\"]\n",
        "        step = \"unknown\"\n",
        "        if optimizer != None:\n",
        "            optimizer._step = step = check[\"optim\"][\"step\"]\n",
        "        logger.info(f\"loaded checkpoint {checkpath}: step={step} loss={stats['loss']} bleu={stats['bleu']}\")\n",
        "    else:\n",
        "        logger.info(f\"no checkpoints found at {checkpath}!\")"
      ]
    },
    {
      "cell_type": "markdown",
      "metadata": {
        "id": "KyIFpibfPJ5u"
      },
      "source": [
        "# Main\n",
        "## Training loop"
      ]
    },
    {
      "cell_type": "code",
      "execution_count": 82,
      "metadata": {
        "id": "hu7RZbCUPKQr"
      },
      "outputs": [],
      "source": [
        "model = model.to(device=device)\n",
        "criterion = criterion.to(device=device)"
      ]
    },
    {
      "cell_type": "code",
      "execution_count": 83,
      "metadata": {
        "id": "5xxlJxU2PeAo"
      },
      "outputs": [
        {
          "name": "stdout",
          "output_type": "stream",
          "text": [
            "2022-04-08 13:21:05 | INFO | hw5.seq2seq | task: TranslationTask\n",
            "2022-04-08 13:21:05 | INFO | hw5.seq2seq | encoder: TransformerEncoder\n",
            "2022-04-08 13:21:05 | INFO | hw5.seq2seq | decoder: TransformerDecoder\n",
            "2022-04-08 13:21:05 | INFO | hw5.seq2seq | criterion: LabelSmoothedCrossEntropyCriterion\n",
            "2022-04-08 13:21:05 | INFO | hw5.seq2seq | optimizer: NoamOpt\n",
            "2022-04-08 13:21:05 | INFO | hw5.seq2seq | num. model params: 15,672,320 (num. trained: 15,672,320)\n",
            "2022-04-08 13:21:05 | INFO | hw5.seq2seq | max tokens per batch = 8192, accumulate steps = 2\n"
          ]
        }
      ],
      "source": [
        "logger.info(\"task: {}\".format(task.__class__.__name__))\n",
        "logger.info(\"encoder: {}\".format(model.encoder.__class__.__name__))\n",
        "logger.info(\"decoder: {}\".format(model.decoder.__class__.__name__))\n",
        "logger.info(\"criterion: {}\".format(criterion.__class__.__name__))\n",
        "logger.info(\"optimizer: {}\".format(optimizer.__class__.__name__))\n",
        "logger.info(\n",
        "    \"num. model params: {:,} (num. trained: {:,})\".format(\n",
        "        sum(p.numel() for p in model.parameters()),\n",
        "        sum(p.numel() for p in model.parameters() if p.requires_grad),\n",
        "    )\n",
        ")\n",
        "logger.info(f\"max tokens per batch = {config.max_tokens}, accumulate steps = {config.accum_steps}\")"
      ]
    },
    {
      "cell_type": "code",
      "execution_count": 43,
      "metadata": {},
      "outputs": [
        {
          "data": {
            "image/png": "[encoded data removed]",
            "text/plain": [
              "<Figure size 432x288 with 2 Axes>"
            ]
          },
          "metadata": {
            "needs_background": "light"
          },
          "output_type": "display_data"
        }
      ],
      "source": [
        "pos_emb = model.decoder.embed_positions.weights.cpu().detach()\n",
        "cmap = plt.cm.get_cmap('Greens')\n",
        "sim = []\n",
        "for x in pos_emb:\n",
        "    for y in pos_emb:\n",
        "        sim.append(F.cosine_similarity(x, y, dim = 0))\n",
        "plt.pcolor(np.array(sim).reshape(1026, 1026), cmap=cmap)\n",
        "plt.colorbar()\n",
        "plt.show()"
      ]
    },
    {
      "cell_type": "code",
      "execution_count": 84,
      "metadata": {
        "id": "MSPRqpQUPfaX"
      },
      "outputs": [
        {
          "name": "stdout",
          "output_type": "stream",
          "text": [
            "2022-04-08 13:21:08 | WARNING | fairseq.tasks.fairseq_task | 1 samples have invalid sizes and will be skipped, max_positions=(1024, 1024), first few sample ids=[326663]\n",
            "2022-04-08 13:21:08 | INFO | hw5.seq2seq | no checkpoints found at checkpoints/transformer_bt/checkpoint_last.pt!\n"
          ]
        },
        {
          "name": "stderr",
          "output_type": "stream",
          "text": [
            "                                                                           "
          ]
        },
        {
          "name": "stdout",
          "output_type": "stream",
          "text": [
            "2022-04-08 13:23:45 | INFO | hw5.seq2seq | training loss: 6.0354\n",
            "2022-04-08 13:23:45 | INFO | hw5.seq2seq | begin validation\n"
          ]
        },
        {
          "name": "stderr",
          "output_type": "stream",
          "text": [
            "validation:   0%|          | 0/26 [00:00<?, ?it/s, valid_loss=3.78]/home/csypt/anaconda3/lib/python3.9/site-packages/fairseq/search.py:140: UserWarning: __floordiv__ is deprecated, and its behavior will change in a future version of pytorch. It currently rounds toward 0 (like the 'trunc' function NOT 'floor'). This results in incorrect rounding for negative values. To keep the current behavior, use torch.div(a, b, rounding_mode='trunc'), or for actual floor division, use torch.div(a, b, rounding_mode='floor').\n",
            "  beams_buf = indices_buf // vocab_size\n",
            "/home/csypt/anaconda3/lib/python3.9/site-packages/fairseq/sequence_generator.py:657: UserWarning: __floordiv__ is deprecated, and its behavior will change in a future version of pytorch. It currently rounds toward 0 (like the 'trunc' function NOT 'floor'). This results in incorrect rounding for negative values. To keep the current behavior, use torch.div(a, b, rounding_mode='trunc'), or for actual floor division, use torch.div(a, b, rounding_mode='floor').\n",
            "  unfin_idx = idx // beam_size\n",
            "                                                                            \r"
          ]
        },
        {
          "name": "stdout",
          "output_type": "stream",
          "text": [
            "2022-04-08 13:24:01 | WARNING | sacrebleu | That's 100 lines that end in a tokenized period ('.')\n",
            "2022-04-08 13:24:01 | WARNING | sacrebleu | It looks like you forgot to detokenize your test data, which may hurt your score.\n",
            "2022-04-08 13:24:01 | WARNING | sacrebleu | If you insist your data is detokenized, or don't care, you can suppress this message with the `force` parameter.\n",
            "2022-04-08 13:24:01 | INFO | hw5.seq2seq | example source: 說實話 , 當我們談論對付窮人的暴力行為 , 用的方式有時候頗為怪異 。\n",
            "2022-04-08 13:24:01 | INFO | hw5.seq2seq | example hypothesis: well , i'm going to do that we're going to be able to be a lot of resurces , and we're going to have a lot of resurpres .\n",
            "2022-04-08 13:24:01 | INFO | hw5.seq2seq | example reference: and honestly , when we do talk about violence against the poor , sometimes it's in the weirdest of ways .\n",
            "2022-04-08 13:24:01 | INFO | hw5.seq2seq | validation loss:\t4.6798\n",
            "2022-04-08 13:24:01 | INFO | hw5.seq2seq | BLEU = 1.27 21.8/2.6/0.4/0.1 (BP = 1.000 ratio = 1.052 hyp_len = 79949 ref_len = 75991)\n",
            "2022-04-08 13:24:01 | INFO | hw5.seq2seq | saved epoch checkpoint: /home/csypt/桌面/ML/hw/hw5/checkpoints/transformer_bt/checkpoint1.pt\n",
            "2022-04-08 13:24:02 | INFO | hw5.seq2seq | end of epoch 1\n"
          ]
        },
        {
          "name": "stderr",
          "output_type": "stream",
          "text": [
            "                                                                           "
          ]
        },
        {
          "name": "stdout",
          "output_type": "stream",
          "text": [
            "2022-04-08 13:26:37 | INFO | hw5.seq2seq | training loss: 4.2722\n",
            "2022-04-08 13:26:37 | INFO | hw5.seq2seq | begin validation\n"
          ]
        },
        {
          "name": "stderr",
          "output_type": "stream",
          "text": [
            "                                                                            \r"
          ]
        },
        {
          "name": "stdout",
          "output_type": "stream",
          "text": [
            "2022-04-08 13:26:51 | WARNING | sacrebleu | That's 100 lines that end in a tokenized period ('.')\n",
            "2022-04-08 13:26:51 | WARNING | sacrebleu | It looks like you forgot to detokenize your test data, which may hurt your score.\n",
            "2022-04-08 13:26:51 | WARNING | sacrebleu | If you insist your data is detokenized, or don't care, you can suppress this message with the `force` parameter.\n",
            "2022-04-08 13:26:51 | INFO | hw5.seq2seq | example source: 就像擲硬幣作決定一樣毫無意義可言\n",
            "2022-04-08 13:26:51 | INFO | hw5.seq2seq | example hypothesis: it's like the hardware , and it's like a serious construction .\n",
            "2022-04-08 13:26:51 | INFO | hw5.seq2seq | example reference: it's like a coin flip ; it doesn't count , really .\n",
            "2022-04-08 13:26:51 | INFO | hw5.seq2seq | validation loss:\t3.7581\n",
            "2022-04-08 13:26:51 | INFO | hw5.seq2seq | BLEU = 6.99 38.5/11.8/4.5/1.9 (BP = 0.889 ratio = 0.895 hyp_len = 68021 ref_len = 75991)\n",
            "2022-04-08 13:26:51 | INFO | hw5.seq2seq | saved epoch checkpoint: /home/csypt/桌面/ML/hw/hw5/checkpoints/transformer_bt/checkpoint2.pt\n",
            "2022-04-08 13:26:51 | INFO | hw5.seq2seq | end of epoch 2\n"
          ]
        },
        {
          "name": "stderr",
          "output_type": "stream",
          "text": [
            "                                                                           "
          ]
        },
        {
          "name": "stdout",
          "output_type": "stream",
          "text": [
            "2022-04-08 13:29:25 | INFO | hw5.seq2seq | training loss: 3.6342\n",
            "2022-04-08 13:29:25 | INFO | hw5.seq2seq | begin validation\n"
          ]
        },
        {
          "name": "stderr",
          "output_type": "stream",
          "text": [
            "                                                                            \r"
          ]
        },
        {
          "name": "stdout",
          "output_type": "stream",
          "text": [
            "2022-04-08 13:29:38 | WARNING | sacrebleu | That's 100 lines that end in a tokenized period ('.')\n",
            "2022-04-08 13:29:38 | WARNING | sacrebleu | It looks like you forgot to detokenize your test data, which may hurt your score.\n",
            "2022-04-08 13:29:38 | WARNING | sacrebleu | If you insist your data is detokenized, or don't care, you can suppress this message with the `force` parameter.\n",
            "2022-04-08 13:29:38 | INFO | hw5.seq2seq | example source: 因為最終我們所做的事都是發生在這個框框裡面在有限的資源下\n",
            "2022-04-08 13:29:38 | INFO | hw5.seq2seq | example hypothesis: because ultimately , what's happening in this framework .\n",
            "2022-04-08 13:29:38 | INFO | hw5.seq2seq | example reference: because ultimately , most of what we do takes place here , inside the box , with limited resources .\n",
            "2022-04-08 13:29:38 | INFO | hw5.seq2seq | validation loss:\t3.3375\n",
            "2022-04-08 13:29:38 | INFO | hw5.seq2seq | BLEU = 10.60 48.8/18.8/8.6/4.1 (BP = 0.791 ratio = 0.810 hyp_len = 61575 ref_len = 75991)\n",
            "2022-04-08 13:29:38 | INFO | hw5.seq2seq | saved epoch checkpoint: /home/csypt/桌面/ML/hw/hw5/checkpoints/transformer_bt/checkpoint3.pt\n",
            "2022-04-08 13:29:38 | INFO | hw5.seq2seq | end of epoch 3\n"
          ]
        },
        {
          "name": "stderr",
          "output_type": "stream",
          "text": [
            "                                                                           "
          ]
        },
        {
          "name": "stdout",
          "output_type": "stream",
          "text": [
            "2022-04-08 13:32:12 | INFO | hw5.seq2seq | training loss: 3.3327\n",
            "2022-04-08 13:32:12 | INFO | hw5.seq2seq | begin validation\n"
          ]
        },
        {
          "name": "stderr",
          "output_type": "stream",
          "text": [
            "                                                                            \r"
          ]
        },
        {
          "name": "stdout",
          "output_type": "stream",
          "text": [
            "2022-04-08 13:32:26 | WARNING | sacrebleu | That's 100 lines that end in a tokenized period ('.')\n",
            "2022-04-08 13:32:26 | WARNING | sacrebleu | It looks like you forgot to detokenize your test data, which may hurt your score.\n",
            "2022-04-08 13:32:26 | WARNING | sacrebleu | If you insist your data is detokenized, or don't care, you can suppress this message with the `force` parameter.\n",
            "2022-04-08 13:32:26 | INFO | hw5.seq2seq | example source: 忽然之間 , 我開竅了\n",
            "2022-04-08 13:32:26 | INFO | hw5.seq2seq | example hypothesis: i'm going to go and i'm going to do it .\n",
            "2022-04-08 13:32:26 | INFO | hw5.seq2seq | example reference: and then it hit me .\n",
            "2022-04-08 13:32:26 | INFO | hw5.seq2seq | validation loss:\t3.1534\n",
            "2022-04-08 13:32:26 | INFO | hw5.seq2seq | BLEU = 12.23 49.4/20.0/9.5/4.6 (BP = 0.849 ratio = 0.859 hyp_len = 65280 ref_len = 75991)\n",
            "2022-04-08 13:32:26 | INFO | hw5.seq2seq | saved epoch checkpoint: /home/csypt/桌面/ML/hw/hw5/checkpoints/transformer_bt/checkpoint4.pt\n",
            "2022-04-08 13:32:26 | INFO | hw5.seq2seq | end of epoch 4\n"
          ]
        },
        {
          "name": "stderr",
          "output_type": "stream",
          "text": [
            "                                                                           "
          ]
        },
        {
          "name": "stdout",
          "output_type": "stream",
          "text": [
            "2022-04-08 13:35:00 | INFO | hw5.seq2seq | training loss: 3.1766\n",
            "2022-04-08 13:35:00 | INFO | hw5.seq2seq | begin validation\n"
          ]
        },
        {
          "name": "stderr",
          "output_type": "stream",
          "text": [
            "                                                                            \r"
          ]
        },
        {
          "name": "stdout",
          "output_type": "stream",
          "text": [
            "2022-04-08 13:35:15 | WARNING | sacrebleu | That's 100 lines that end in a tokenized period ('.')\n",
            "2022-04-08 13:35:15 | WARNING | sacrebleu | It looks like you forgot to detokenize your test data, which may hurt your score.\n",
            "2022-04-08 13:35:15 | WARNING | sacrebleu | If you insist your data is detokenized, or don't care, you can suppress this message with the `force` parameter.\n",
            "2022-04-08 13:35:15 | INFO | hw5.seq2seq | example source: 你可以說是 , 也可以說不是 ; 但這個問題的答案不是這麼表面的 。\n",
            "2022-04-08 13:35:15 | INFO | hw5.seq2seq | example hypothesis: you can say it's not ; it's not the answer , but the answer is not the surface of the problem .\n",
            "2022-04-08 13:35:15 | INFO | hw5.seq2seq | example reference: and the answer is yes and no ; it's deeper than all of that .\n",
            "2022-04-08 13:35:15 | INFO | hw5.seq2seq | validation loss:\t3.0596\n",
            "2022-04-08 13:35:15 | INFO | hw5.seq2seq | BLEU = 13.89 48.3/20.2/9.8/4.9 (BP = 0.942 ratio = 0.944 hyp_len = 71701 ref_len = 75991)\n",
            "2022-04-08 13:35:15 | INFO | hw5.seq2seq | saved epoch checkpoint: /home/csypt/桌面/ML/hw/hw5/checkpoints/transformer_bt/checkpoint5.pt\n",
            "2022-04-08 13:35:15 | INFO | hw5.seq2seq | end of epoch 5\n"
          ]
        },
        {
          "name": "stderr",
          "output_type": "stream",
          "text": [
            "train epoch 6:  85%|████████▍ | 678/800 [02:10<00:23,  5.14it/s, loss=3.05]Exception ignored in: <function _MultiProcessingDataLoaderIter.__del__ at 0x7fcf933dfca0>\n",
            "Traceback (most recent call last):\n",
            "  File \"/home/csypt/anaconda3/lib/python3.9/site-packages/torch/utils/data/dataloader.py\", line 1358, in __del__\n",
            "    self._shutdown_workers()\n",
            "  File \"/home/csypt/anaconda3/lib/python3.9/site-packages/torch/utils/data/dataloader.py\", line 1341, in _shutdown_workers\n",
            "    if w.is_alive():\n",
            "  File \"/home/csypt/anaconda3/lib/python3.9/multiprocessing/process.py\", line 160, in is_alive\n",
            "    assert self._parent_pid == os.getpid(), 'can only test a child process'\n",
            "AssertionError: can only test a child process\n",
            "train epoch 6:  91%|█████████▏| 730/800 [02:20<00:13,  5.03it/s, loss=2.78]Exception ignored in: <function _MultiProcessingDataLoaderIter.__del__ at 0x7fcf933dfca0>\n",
            "Traceback (most recent call last):\n",
            "  File \"/home/csypt/anaconda3/lib/python3.9/site-packages/torch/utils/data/dataloader.py\", line 1358, in __del__\n",
            "    self._shutdown_workers()\n",
            "  File \"/home/csypt/anaconda3/lib/python3.9/site-packages/torch/utils/data/dataloader.py\", line 1341, in _shutdown_workers\n",
            "    if w.is_alive():\n",
            "  File \"/home/csypt/anaconda3/lib/python3.9/multiprocessing/process.py\", line 160, in is_alive\n",
            "    assert self._parent_pid == os.getpid(), 'can only test a child process'\n",
            "AssertionError: can only test a child process\n",
            "                                                                           "
          ]
        },
        {
          "name": "stdout",
          "output_type": "stream",
          "text": [
            "2022-04-08 13:37:49 | INFO | hw5.seq2seq | training loss: 3.0596\n",
            "2022-04-08 13:37:49 | INFO | hw5.seq2seq | begin validation\n"
          ]
        },
        {
          "name": "stderr",
          "output_type": "stream",
          "text": [
            "                                                                            \r"
          ]
        },
        {
          "name": "stdout",
          "output_type": "stream",
          "text": [
            "2022-04-08 13:38:03 | WARNING | sacrebleu | That's 100 lines that end in a tokenized period ('.')\n",
            "2022-04-08 13:38:03 | WARNING | sacrebleu | It looks like you forgot to detokenize your test data, which may hurt your score.\n",
            "2022-04-08 13:38:03 | WARNING | sacrebleu | If you insist your data is detokenized, or don't care, you can suppress this message with the `force` parameter.\n",
            "2022-04-08 13:38:03 | INFO | hw5.seq2seq | example source: 但我在我的智慧家庭中的經歷並非如此 。\n",
            "2022-04-08 13:38:03 | INFO | hw5.seq2seq | example hypothesis: but it's not my experience in my smart family .\n",
            "2022-04-08 13:38:03 | INFO | hw5.seq2seq | example reference: but that wasn't my experience in my smart home .\n",
            "2022-04-08 13:38:03 | INFO | hw5.seq2seq | validation loss:\t2.9356\n",
            "2022-04-08 13:38:03 | INFO | hw5.seq2seq | BLEU = 14.68 53.1/23.2/11.7/6.2 (BP = 0.848 ratio = 0.858 hyp_len = 65217 ref_len = 75991)\n",
            "2022-04-08 13:38:03 | INFO | hw5.seq2seq | saved epoch checkpoint: /home/csypt/桌面/ML/hw/hw5/checkpoints/transformer_bt/checkpoint6.pt\n",
            "2022-04-08 13:38:03 | INFO | hw5.seq2seq | end of epoch 6\n"
          ]
        },
        {
          "name": "stderr",
          "output_type": "stream",
          "text": [
            "train epoch 7:   0%|          | 0/800 [00:00<?, ?it/s]Exception ignored in: <function _MultiProcessingDataLoaderIter.__del__ at 0x7fcf933dfca0>\n",
            "Traceback (most recent call last):\n",
            "  File \"/home/csypt/anaconda3/lib/python3.9/site-packages/torch/utils/data/dataloader.py\", line 1358, in __del__\n",
            "    self._shutdown_workers()\n",
            "  File \"/home/csypt/anaconda3/lib/python3.9/site-packages/torch/utils/data/dataloader.py\", line 1341, in _shutdown_workers\n",
            "    if w.is_alive():\n",
            "  File \"/home/csypt/anaconda3/lib/python3.9/multiprocessing/process.py\", line 160, in is_alive\n",
            "    assert self._parent_pid == os.getpid(), 'can only test a child process'\n",
            "AssertionError: can only test a child process\n",
            "Exception ignored in: <function _MultiProcessingDataLoaderIter.__del__ at 0x7fcf933dfca0>\n",
            "Traceback (most recent call last):\n",
            "  File \"/home/csypt/anaconda3/lib/python3.9/site-packages/torch/utils/data/dataloader.py\", line 1358, in __del__\n",
            "    self._shutdown_workers()\n",
            "  File \"/home/csypt/anaconda3/lib/python3.9/site-packages/torch/utils/data/dataloader.py\", line 1341, in _shutdown_workers\n",
            "    if w.is_alive():\n",
            "  File \"/home/csypt/anaconda3/lib/python3.9/multiprocessing/process.py\", line 160, in is_alive\n",
            "    assert self._parent_pid == os.getpid(), 'can only test a child process'\n",
            "AssertionError: can only test a child process\n",
            "                                                                           "
          ]
        },
        {
          "name": "stdout",
          "output_type": "stream",
          "text": [
            "2022-04-08 13:40:37 | INFO | hw5.seq2seq | training loss: 2.9538\n",
            "2022-04-08 13:40:37 | INFO | hw5.seq2seq | begin validation\n"
          ]
        },
        {
          "name": "stderr",
          "output_type": "stream",
          "text": [
            "                                                                            \r"
          ]
        },
        {
          "name": "stdout",
          "output_type": "stream",
          "text": [
            "2022-04-08 13:40:50 | WARNING | sacrebleu | That's 100 lines that end in a tokenized period ('.')\n",
            "2022-04-08 13:40:50 | WARNING | sacrebleu | It looks like you forgot to detokenize your test data, which may hurt your score.\n",
            "2022-04-08 13:40:50 | WARNING | sacrebleu | If you insist your data is detokenized, or don't care, you can suppress this message with the `force` parameter.\n",
            "2022-04-08 13:40:50 | INFO | hw5.seq2seq | example source: 我認為我們可以進入一個新時代我稱之為 「 零期醫學 」 的時代 。 作為一名癌症醫生 , 我期待失業 。\n",
            "2022-04-08 13:40:50 | INFO | hw5.seq2seq | example hypothesis: i think we can go into a new era where i call zero medicine .\n",
            "2022-04-08 13:40:50 | INFO | hw5.seq2seq | example reference: we have adult stem cells throughout our body ; we use those in bone marrow transplantation .\n",
            "2022-04-08 13:40:50 | INFO | hw5.seq2seq | validation loss:\t2.8781\n",
            "2022-04-08 13:40:50 | INFO | hw5.seq2seq | BLEU = 14.59 56.0/25.3/13.2/7.1 (BP = 0.765 ratio = 0.789 hyp_len = 59935 ref_len = 75991)\n",
            "2022-04-08 13:40:50 | INFO | hw5.seq2seq | saved epoch checkpoint: /home/csypt/桌面/ML/hw/hw5/checkpoints/transformer_bt/checkpoint7.pt\n",
            "2022-04-08 13:40:50 | INFO | hw5.seq2seq | end of epoch 7\n"
          ]
        },
        {
          "name": "stderr",
          "output_type": "stream",
          "text": [
            "                                                                           "
          ]
        },
        {
          "name": "stdout",
          "output_type": "stream",
          "text": [
            "2022-04-08 13:43:24 | INFO | hw5.seq2seq | training loss: 2.8751\n",
            "2022-04-08 13:43:24 | INFO | hw5.seq2seq | begin validation\n"
          ]
        },
        {
          "name": "stderr",
          "output_type": "stream",
          "text": [
            "                                                                            \r"
          ]
        },
        {
          "name": "stdout",
          "output_type": "stream",
          "text": [
            "2022-04-08 13:43:38 | WARNING | sacrebleu | That's 100 lines that end in a tokenized period ('.')\n",
            "2022-04-08 13:43:38 | WARNING | sacrebleu | It looks like you forgot to detokenize your test data, which may hurt your score.\n",
            "2022-04-08 13:43:38 | WARNING | sacrebleu | If you insist your data is detokenized, or don't care, you can suppress this message with the `force` parameter.\n",
            "2022-04-08 13:43:38 | INFO | hw5.seq2seq | example source: 今天會場不能在你們面前設置全身鏡 , 但我要你想一句自己會對鏡中的自己說的話 。 用自我肯定的語言 。\n",
            "2022-04-08 13:43:38 | INFO | hw5.seq2seq | example hypothesis: today , you can't put all the lenses in front of you , but i want you to think of yourself in the mirror .\n",
            "2022-04-08 13:43:38 | INFO | hw5.seq2seq | example reference: there may not be a fulllength mirror in front of each of you today , but i want to challenge you to think about what you would want to say to yourself in the mirror with your own selfaffirming words .\n",
            "2022-04-08 13:43:38 | INFO | hw5.seq2seq | validation loss:\t2.8289\n",
            "2022-04-08 13:43:38 | INFO | hw5.seq2seq | BLEU = 16.37 53.8/24.5/12.7/6.9 (BP = 0.888 ratio = 0.894 hyp_len = 67930 ref_len = 75991)\n",
            "2022-04-08 13:43:38 | INFO | hw5.seq2seq | saved epoch checkpoint: /home/csypt/桌面/ML/hw/hw5/checkpoints/transformer_bt/checkpoint8.pt\n",
            "2022-04-08 13:43:38 | INFO | hw5.seq2seq | end of epoch 8\n"
          ]
        },
        {
          "name": "stderr",
          "output_type": "stream",
          "text": [
            "                                                                           "
          ]
        },
        {
          "name": "stdout",
          "output_type": "stream",
          "text": [
            "2022-04-08 13:46:12 | INFO | hw5.seq2seq | training loss: 2.8175\n",
            "2022-04-08 13:46:12 | INFO | hw5.seq2seq | begin validation\n"
          ]
        },
        {
          "name": "stderr",
          "output_type": "stream",
          "text": [
            "                                                                            \r"
          ]
        },
        {
          "name": "stdout",
          "output_type": "stream",
          "text": [
            "2022-04-08 13:46:25 | WARNING | sacrebleu | That's 100 lines that end in a tokenized period ('.')\n",
            "2022-04-08 13:46:25 | WARNING | sacrebleu | It looks like you forgot to detokenize your test data, which may hurt your score.\n",
            "2022-04-08 13:46:25 | WARNING | sacrebleu | If you insist your data is detokenized, or don't care, you can suppress this message with the `force` parameter.\n",
            "2022-04-08 13:46:25 | INFO | hw5.seq2seq | example source: 所以如果我們能利用科技來幫助解決教育問題 , 幫助解決環境問題 , 幫助解決大規模傳染問題 , 這不就能解決當年我在wired雜誌上所提到那些大問題了嗎 ? 恐怕不會 , 因為你不能光只靠科技來解決一個問題 。\n",
            "2022-04-08 13:46:25 | INFO | hw5.seq2seq | example hypothesis: so if we can use technology to help educational issues , help the environmental problems , help solve largescale infectious problems , it won't be the case that i mentioned in wired magazine ?\n",
            "2022-04-08 13:46:25 | INFO | hw5.seq2seq | example reference: so if we can address , use technology , help address education , help address the environment , help address the pandemic , does that solve the larger problem that i was talking about in the wired article ? and i'm afraid the answer is really no , because you can't solve a problem with the management of technology with more technology .\n",
            "2022-04-08 13:46:25 | INFO | hw5.seq2seq | validation loss:\t2.8021\n",
            "2022-04-08 13:46:25 | INFO | hw5.seq2seq | BLEU = 16.25 56.3/26.2/14.0/7.7 (BP = 0.815 ratio = 0.830 hyp_len = 63078 ref_len = 75991)\n",
            "2022-04-08 13:46:25 | INFO | hw5.seq2seq | saved epoch checkpoint: /home/csypt/桌面/ML/hw/hw5/checkpoints/transformer_bt/checkpoint9.pt\n",
            "2022-04-08 13:46:25 | INFO | hw5.seq2seq | end of epoch 9\n"
          ]
        },
        {
          "name": "stderr",
          "output_type": "stream",
          "text": [
            "                                                                            "
          ]
        },
        {
          "name": "stdout",
          "output_type": "stream",
          "text": [
            "2022-04-08 13:48:59 | INFO | hw5.seq2seq | training loss: 2.7702\n",
            "2022-04-08 13:48:59 | INFO | hw5.seq2seq | begin validation\n"
          ]
        },
        {
          "name": "stderr",
          "output_type": "stream",
          "text": [
            "                                                                            \r"
          ]
        },
        {
          "name": "stdout",
          "output_type": "stream",
          "text": [
            "2022-04-08 13:49:12 | WARNING | sacrebleu | That's 100 lines that end in a tokenized period ('.')\n",
            "2022-04-08 13:49:12 | WARNING | sacrebleu | It looks like you forgot to detokenize your test data, which may hurt your score.\n",
            "2022-04-08 13:49:12 | WARNING | sacrebleu | If you insist your data is detokenized, or don't care, you can suppress this message with the `force` parameter.\n",
            "2022-04-08 13:49:12 | INFO | hw5.seq2seq | example source: 「 我想結婚的時候才結婚 。\n",
            "2022-04-08 13:49:12 | INFO | hw5.seq2seq | example hypothesis: \" i want to get married .\n",
            "2022-04-08 13:49:12 | INFO | hw5.seq2seq | example reference: \" i'll marry when i want .\n",
            "2022-04-08 13:49:12 | INFO | hw5.seq2seq | validation loss:\t2.7692\n",
            "2022-04-08 13:49:12 | INFO | hw5.seq2seq | BLEU = 16.96 56.0/26.4/14.2/7.9 (BP = 0.842 ratio = 0.853 hyp_len = 64856 ref_len = 75991)\n",
            "2022-04-08 13:49:12 | INFO | hw5.seq2seq | saved epoch checkpoint: /home/csypt/桌面/ML/hw/hw5/checkpoints/transformer_bt/checkpoint10.pt\n",
            "2022-04-08 13:49:12 | INFO | hw5.seq2seq | end of epoch 10\n"
          ]
        },
        {
          "name": "stderr",
          "output_type": "stream",
          "text": [
            "                                                                            "
          ]
        },
        {
          "name": "stdout",
          "output_type": "stream",
          "text": [
            "2022-04-08 13:51:46 | INFO | hw5.seq2seq | training loss: 2.7350\n",
            "2022-04-08 13:51:46 | INFO | hw5.seq2seq | begin validation\n"
          ]
        },
        {
          "name": "stderr",
          "output_type": "stream",
          "text": [
            "                                                                            \r"
          ]
        },
        {
          "name": "stdout",
          "output_type": "stream",
          "text": [
            "2022-04-08 13:52:00 | WARNING | sacrebleu | That's 100 lines that end in a tokenized period ('.')\n",
            "2022-04-08 13:52:00 | WARNING | sacrebleu | It looks like you forgot to detokenize your test data, which may hurt your score.\n",
            "2022-04-08 13:52:00 | WARNING | sacrebleu | If you insist your data is detokenized, or don't care, you can suppress this message with the `force` parameter.\n",
            "2022-04-08 13:52:00 | INFO | hw5.seq2seq | example source: 更糟的是\n",
            "2022-04-08 13:52:00 | INFO | hw5.seq2seq | example hypothesis: it's even worse .\n",
            "2022-04-08 13:52:00 | INFO | hw5.seq2seq | example reference: but it gets worse .\n",
            "2022-04-08 13:52:00 | INFO | hw5.seq2seq | validation loss:\t2.7393\n",
            "2022-04-08 13:52:00 | INFO | hw5.seq2seq | BLEU = 17.59 55.7/26.4/14.4/8.1 (BP = 0.864 ratio = 0.872 hyp_len = 66294 ref_len = 75991)\n",
            "2022-04-08 13:52:00 | INFO | hw5.seq2seq | saved epoch checkpoint: /home/csypt/桌面/ML/hw/hw5/checkpoints/transformer_bt/checkpoint11.pt\n",
            "2022-04-08 13:52:00 | INFO | hw5.seq2seq | end of epoch 11\n"
          ]
        },
        {
          "name": "stderr",
          "output_type": "stream",
          "text": [
            "                                                                            "
          ]
        },
        {
          "name": "stdout",
          "output_type": "stream",
          "text": [
            "2022-04-08 13:54:34 | INFO | hw5.seq2seq | training loss: 2.7040\n",
            "2022-04-08 13:54:34 | INFO | hw5.seq2seq | begin validation\n"
          ]
        },
        {
          "name": "stderr",
          "output_type": "stream",
          "text": [
            "                                                                            \r"
          ]
        },
        {
          "name": "stdout",
          "output_type": "stream",
          "text": [
            "2022-04-08 13:54:47 | WARNING | sacrebleu | That's 100 lines that end in a tokenized period ('.')\n",
            "2022-04-08 13:54:47 | WARNING | sacrebleu | It looks like you forgot to detokenize your test data, which may hurt your score.\n",
            "2022-04-08 13:54:47 | WARNING | sacrebleu | If you insist your data is detokenized, or don't care, you can suppress this message with the `force` parameter.\n",
            "2022-04-08 13:54:47 | INFO | hw5.seq2seq | example source: 但是-訣竅在這fehr和gachter在第七輪的時候和每個人說 \" 好的,新規則\n",
            "2022-04-08 13:54:47 | INFO | hw5.seq2seq | example hypothesis: but the trick is this fehr and gchter , and when it comes to the seventh round , it says , \" good , new rules .\n",
            "2022-04-08 13:54:47 | INFO | hw5.seq2seq | example reference: but then and here's the trick fehr and gächter , on the seventh round , told people , \" you know what ? new rule .\n",
            "2022-04-08 13:54:47 | INFO | hw5.seq2seq | validation loss:\t2.7167\n",
            "2022-04-08 13:54:47 | INFO | hw5.seq2seq | BLEU = 18.35 54.1/25.6/13.8/7.8 (BP = 0.933 ratio = 0.936 hyp_len = 71090 ref_len = 75991)\n",
            "2022-04-08 13:54:47 | INFO | hw5.seq2seq | saved epoch checkpoint: /home/csypt/桌面/ML/hw/hw5/checkpoints/transformer_bt/checkpoint12.pt\n",
            "2022-04-08 13:54:47 | INFO | hw5.seq2seq | end of epoch 12\n"
          ]
        },
        {
          "name": "stderr",
          "output_type": "stream",
          "text": [
            "                                                                            "
          ]
        },
        {
          "name": "stdout",
          "output_type": "stream",
          "text": [
            "2022-04-08 13:57:21 | INFO | hw5.seq2seq | training loss: 2.6777\n",
            "2022-04-08 13:57:21 | INFO | hw5.seq2seq | begin validation\n"
          ]
        },
        {
          "name": "stderr",
          "output_type": "stream",
          "text": [
            "                                                                            \r"
          ]
        },
        {
          "name": "stdout",
          "output_type": "stream",
          "text": [
            "2022-04-08 13:57:35 | WARNING | sacrebleu | That's 100 lines that end in a tokenized period ('.')\n",
            "2022-04-08 13:57:35 | WARNING | sacrebleu | It looks like you forgot to detokenize your test data, which may hurt your score.\n",
            "2022-04-08 13:57:35 | WARNING | sacrebleu | If you insist your data is detokenized, or don't care, you can suppress this message with the `force` parameter.\n",
            "2022-04-08 13:57:35 | INFO | hw5.seq2seq | example source: 我們可以不要讓郵遞區號成為決定你壽命長短的主要因素 。\n",
            "2022-04-08 13:57:35 | INFO | hw5.seq2seq | example hypothesis: we can not let the post zone become the principal factor of deciding your lifespan .\n",
            "2022-04-08 13:57:35 | INFO | hw5.seq2seq | example reference: we can stop making your zip code the primary determinant of your lifespan .\n",
            "2022-04-08 13:57:35 | INFO | hw5.seq2seq | validation loss:\t2.7111\n",
            "2022-04-08 13:57:35 | INFO | hw5.seq2seq | BLEU = 18.74 54.1/25.8/14.0/7.8 (BP = 0.949 ratio = 0.950 hyp_len = 72181 ref_len = 75991)\n",
            "2022-04-08 13:57:35 | INFO | hw5.seq2seq | saved epoch checkpoint: /home/csypt/桌面/ML/hw/hw5/checkpoints/transformer_bt/checkpoint13.pt\n",
            "2022-04-08 13:57:35 | INFO | hw5.seq2seq | end of epoch 13\n"
          ]
        },
        {
          "name": "stderr",
          "output_type": "stream",
          "text": [
            "                                                                            "
          ]
        },
        {
          "name": "stdout",
          "output_type": "stream",
          "text": [
            "2022-04-08 14:00:09 | INFO | hw5.seq2seq | training loss: 2.6554\n",
            "2022-04-08 14:00:09 | INFO | hw5.seq2seq | begin validation\n"
          ]
        },
        {
          "name": "stderr",
          "output_type": "stream",
          "text": [
            "                                                                            \r"
          ]
        },
        {
          "name": "stdout",
          "output_type": "stream",
          "text": [
            "2022-04-08 14:00:22 | WARNING | sacrebleu | That's 100 lines that end in a tokenized period ('.')\n",
            "2022-04-08 14:00:22 | WARNING | sacrebleu | It looks like you forgot to detokenize your test data, which may hurt your score.\n",
            "2022-04-08 14:00:22 | WARNING | sacrebleu | If you insist your data is detokenized, or don't care, you can suppress this message with the `force` parameter.\n",
            "2022-04-08 14:00:22 | INFO | hw5.seq2seq | example source: 他們的文化已經遭到了破壞 , 他們賴以生存的動物也面臨滅絕 。\n",
            "2022-04-08 14:00:22 | INFO | hw5.seq2seq | example hypothesis: their culture has been destroyed , and they're facing extinction with survival animals .\n",
            "2022-04-08 14:00:22 | INFO | hw5.seq2seq | example reference: their culture is being destroyed , along with the animals upon whom they depend .\n",
            "2022-04-08 14:00:22 | INFO | hw5.seq2seq | validation loss:\t2.6943\n",
            "2022-04-08 14:00:22 | INFO | hw5.seq2seq | BLEU = 18.67 56.5/27.3/15.1/8.5 (BP = 0.885 ratio = 0.891 hyp_len = 67722 ref_len = 75991)\n",
            "2022-04-08 14:00:22 | INFO | hw5.seq2seq | saved epoch checkpoint: /home/csypt/桌面/ML/hw/hw5/checkpoints/transformer_bt/checkpoint14.pt\n",
            "2022-04-08 14:00:22 | INFO | hw5.seq2seq | end of epoch 14\n"
          ]
        },
        {
          "name": "stderr",
          "output_type": "stream",
          "text": [
            "                                                                            "
          ]
        },
        {
          "name": "stdout",
          "output_type": "stream",
          "text": [
            "2022-04-08 14:02:56 | INFO | hw5.seq2seq | training loss: 2.6352\n",
            "2022-04-08 14:02:56 | INFO | hw5.seq2seq | begin validation\n"
          ]
        },
        {
          "name": "stderr",
          "output_type": "stream",
          "text": [
            "                                                                            \r"
          ]
        },
        {
          "name": "stdout",
          "output_type": "stream",
          "text": [
            "2022-04-08 14:03:10 | WARNING | sacrebleu | That's 100 lines that end in a tokenized period ('.')\n",
            "2022-04-08 14:03:10 | WARNING | sacrebleu | It looks like you forgot to detokenize your test data, which may hurt your score.\n",
            "2022-04-08 14:03:10 | WARNING | sacrebleu | If you insist your data is detokenized, or don't care, you can suppress this message with the `force` parameter.\n",
            "2022-04-08 14:03:10 | INFO | hw5.seq2seq | example source: 看看女性發生什麼變化 ? 男性又發生什麼變化 ?\n",
            "2022-04-08 14:03:10 | INFO | hw5.seq2seq | example hypothesis: what happens ? what happens to men ?\n",
            "2022-04-08 14:03:10 | INFO | hw5.seq2seq | example reference: watch what happens to the women . watch what happens to the men .\n",
            "2022-04-08 14:03:10 | INFO | hw5.seq2seq | validation loss:\t2.6967\n",
            "2022-04-08 14:03:10 | INFO | hw5.seq2seq | BLEU = 18.47 56.4/27.2/14.9/8.4 (BP = 0.882 ratio = 0.888 hyp_len = 67500 ref_len = 75991)\n",
            "2022-04-08 14:03:10 | INFO | hw5.seq2seq | saved epoch checkpoint: /home/csypt/桌面/ML/hw/hw5/checkpoints/transformer_bt/checkpoint15.pt\n",
            "2022-04-08 14:03:10 | INFO | hw5.seq2seq | end of epoch 15\n"
          ]
        },
        {
          "name": "stderr",
          "output_type": "stream",
          "text": [
            "                                                                            "
          ]
        },
        {
          "name": "stdout",
          "output_type": "stream",
          "text": [
            "2022-04-08 14:05:44 | INFO | hw5.seq2seq | training loss: 2.6179\n",
            "2022-04-08 14:05:44 | INFO | hw5.seq2seq | begin validation\n"
          ]
        },
        {
          "name": "stderr",
          "output_type": "stream",
          "text": [
            "                                                                            \r"
          ]
        },
        {
          "name": "stdout",
          "output_type": "stream",
          "text": [
            "2022-04-08 14:05:58 | WARNING | sacrebleu | That's 100 lines that end in a tokenized period ('.')\n",
            "2022-04-08 14:05:58 | WARNING | sacrebleu | It looks like you forgot to detokenize your test data, which may hurt your score.\n",
            "2022-04-08 14:05:58 | WARNING | sacrebleu | If you insist your data is detokenized, or don't care, you can suppress this message with the `force` parameter.\n",
            "2022-04-08 14:05:58 | INFO | hw5.seq2seq | example source: 這些可以幫助我們設計出更會爬牆的機器人嗎 ?\n",
            "2022-04-08 14:05:58 | INFO | hw5.seq2seq | example hypothesis: can we design robots that climb walls ?\n",
            "2022-04-08 14:05:58 | INFO | hw5.seq2seq | example reference: now will this help us think about the design of more effective climbing robots ?\n",
            "2022-04-08 14:05:58 | INFO | hw5.seq2seq | validation loss:\t2.6746\n",
            "2022-04-08 14:05:58 | INFO | hw5.seq2seq | BLEU = 18.89 57.3/28.0/15.5/8.9 (BP = 0.869 ratio = 0.877 hyp_len = 66667 ref_len = 75991)\n",
            "2022-04-08 14:05:58 | INFO | hw5.seq2seq | saved epoch checkpoint: /home/csypt/桌面/ML/hw/hw5/checkpoints/transformer_bt/checkpoint16.pt\n",
            "2022-04-08 14:05:58 | INFO | hw5.seq2seq | end of epoch 16\n"
          ]
        },
        {
          "name": "stderr",
          "output_type": "stream",
          "text": [
            "                                                                            "
          ]
        },
        {
          "name": "stdout",
          "output_type": "stream",
          "text": [
            "2022-04-08 14:08:33 | INFO | hw5.seq2seq | training loss: 2.6000\n",
            "2022-04-08 14:08:33 | INFO | hw5.seq2seq | begin validation\n"
          ]
        },
        {
          "name": "stderr",
          "output_type": "stream",
          "text": [
            "                                                                            \r"
          ]
        },
        {
          "name": "stdout",
          "output_type": "stream",
          "text": [
            "2022-04-08 14:08:47 | WARNING | sacrebleu | That's 100 lines that end in a tokenized period ('.')\n",
            "2022-04-08 14:08:47 | WARNING | sacrebleu | It looks like you forgot to detokenize your test data, which may hurt your score.\n",
            "2022-04-08 14:08:47 | WARNING | sacrebleu | If you insist your data is detokenized, or don't care, you can suppress this message with the `force` parameter.\n",
            "2022-04-08 14:08:47 | INFO | hw5.seq2seq | example source: 那只是個科學問題\n",
            "2022-04-08 14:08:47 | INFO | hw5.seq2seq | example hypothesis: that's just a scientific question .\n",
            "2022-04-08 14:08:47 | INFO | hw5.seq2seq | example reference: it's a scientific question , after all .\n",
            "2022-04-08 14:08:47 | INFO | hw5.seq2seq | validation loss:\t2.6713\n",
            "2022-04-08 14:08:47 | INFO | hw5.seq2seq | BLEU = 19.25 56.5/27.5/15.2/8.8 (BP = 0.902 ratio = 0.906 hyp_len = 68883 ref_len = 75991)\n",
            "2022-04-08 14:08:47 | INFO | hw5.seq2seq | saved epoch checkpoint: /home/csypt/桌面/ML/hw/hw5/checkpoints/transformer_bt/checkpoint17.pt\n",
            "2022-04-08 14:08:47 | INFO | hw5.seq2seq | end of epoch 17\n"
          ]
        },
        {
          "name": "stderr",
          "output_type": "stream",
          "text": [
            "                                                                            "
          ]
        },
        {
          "name": "stdout",
          "output_type": "stream",
          "text": [
            "2022-04-08 14:11:21 | INFO | hw5.seq2seq | training loss: 2.5872\n",
            "2022-04-08 14:11:21 | INFO | hw5.seq2seq | begin validation\n"
          ]
        },
        {
          "name": "stderr",
          "output_type": "stream",
          "text": [
            "                                                                            \r"
          ]
        },
        {
          "name": "stdout",
          "output_type": "stream",
          "text": [
            "2022-04-08 14:11:35 | WARNING | sacrebleu | That's 100 lines that end in a tokenized period ('.')\n",
            "2022-04-08 14:11:35 | WARNING | sacrebleu | It looks like you forgot to detokenize your test data, which may hurt your score.\n",
            "2022-04-08 14:11:35 | WARNING | sacrebleu | If you insist your data is detokenized, or don't care, you can suppress this message with the `force` parameter.\n",
            "2022-04-08 14:11:35 | INFO | hw5.seq2seq | example source: 求算還是快些 , 也實際些\n",
            "2022-04-08 14:11:35 | INFO | hw5.seq2seq | example hypothesis: calculations are faster and more practical .\n",
            "2022-04-08 14:11:35 | INFO | hw5.seq2seq | example reference: it's still quicker to do that and more practical .\n",
            "2022-04-08 14:11:35 | INFO | hw5.seq2seq | validation loss:\t2.6668\n",
            "2022-04-08 14:11:35 | INFO | hw5.seq2seq | BLEU = 19.07 57.0/27.7/15.4/8.8 (BP = 0.887 ratio = 0.893 hyp_len = 67834 ref_len = 75991)\n",
            "2022-04-08 14:11:35 | INFO | hw5.seq2seq | saved epoch checkpoint: /home/csypt/桌面/ML/hw/hw5/checkpoints/transformer_bt/checkpoint18.pt\n",
            "2022-04-08 14:11:35 | INFO | hw5.seq2seq | end of epoch 18\n"
          ]
        },
        {
          "name": "stderr",
          "output_type": "stream",
          "text": [
            "                                                                            "
          ]
        },
        {
          "name": "stdout",
          "output_type": "stream",
          "text": [
            "2022-04-08 14:14:09 | INFO | hw5.seq2seq | training loss: 2.5749\n",
            "2022-04-08 14:14:09 | INFO | hw5.seq2seq | begin validation\n"
          ]
        },
        {
          "name": "stderr",
          "output_type": "stream",
          "text": [
            "                                                                            \r"
          ]
        },
        {
          "name": "stdout",
          "output_type": "stream",
          "text": [
            "2022-04-08 14:14:23 | WARNING | sacrebleu | That's 100 lines that end in a tokenized period ('.')\n",
            "2022-04-08 14:14:23 | WARNING | sacrebleu | It looks like you forgot to detokenize your test data, which may hurt your score.\n",
            "2022-04-08 14:14:23 | WARNING | sacrebleu | If you insist your data is detokenized, or don't care, you can suppress this message with the `force` parameter.\n",
            "2022-04-08 14:14:23 | INFO | hw5.seq2seq | example source: 我一聽到該錄音 , 我就知道這將會是那種心有所感的片段 , 能夠實切地描繪出當下食物銀行正發生的事情 。\n",
            "2022-04-08 14:14:23 | INFO | hw5.seq2seq | example hypothesis: and as soon as i heard the recording , i understood that this was going to be a snippet of feeling that i could actually describe what's happening in the current food bank .\n",
            "2022-04-08 14:14:23 | INFO | hw5.seq2seq | example reference: as soon as i heard that audio , i knew that this would be the kind of evocative piece that could really describe what was going on at food banks .\n",
            "2022-04-08 14:14:23 | INFO | hw5.seq2seq | validation loss:\t2.6593\n",
            "2022-04-08 14:14:23 | INFO | hw5.seq2seq | BLEU = 19.51 55.4/27.0/14.9/8.4 (BP = 0.938 ratio = 0.940 hyp_len = 71450 ref_len = 75991)\n",
            "2022-04-08 14:14:23 | INFO | hw5.seq2seq | saved epoch checkpoint: /home/csypt/桌面/ML/hw/hw5/checkpoints/transformer_bt/checkpoint19.pt\n",
            "2022-04-08 14:14:23 | INFO | hw5.seq2seq | end of epoch 19\n"
          ]
        },
        {
          "name": "stderr",
          "output_type": "stream",
          "text": [
            "                                                                            "
          ]
        },
        {
          "name": "stdout",
          "output_type": "stream",
          "text": [
            "2022-04-08 14:16:57 | INFO | hw5.seq2seq | training loss: 2.5618\n",
            "2022-04-08 14:16:57 | INFO | hw5.seq2seq | begin validation\n"
          ]
        },
        {
          "name": "stderr",
          "output_type": "stream",
          "text": [
            "                                                                            \r"
          ]
        },
        {
          "name": "stdout",
          "output_type": "stream",
          "text": [
            "2022-04-08 14:17:10 | WARNING | sacrebleu | That's 100 lines that end in a tokenized period ('.')\n",
            "2022-04-08 14:17:10 | WARNING | sacrebleu | It looks like you forgot to detokenize your test data, which may hurt your score.\n",
            "2022-04-08 14:17:10 | WARNING | sacrebleu | If you insist your data is detokenized, or don't care, you can suppress this message with the `force` parameter.\n",
            "2022-04-08 14:17:10 | INFO | hw5.seq2seq | example source: 它是個人口超過十億的國家 。\n",
            "2022-04-08 14:17:10 | INFO | hw5.seq2seq | example hypothesis: it's a country of over a billion .\n",
            "2022-04-08 14:17:10 | INFO | hw5.seq2seq | example reference: it's a country of over a billion people .\n",
            "2022-04-08 14:17:10 | INFO | hw5.seq2seq | validation loss:\t2.6552\n",
            "2022-04-08 14:17:10 | INFO | hw5.seq2seq | BLEU = 19.34 55.7/27.0/14.9/8.5 (BP = 0.925 ratio = 0.927 hyp_len = 70464 ref_len = 75991)\n",
            "2022-04-08 14:17:10 | INFO | hw5.seq2seq | saved epoch checkpoint: /home/csypt/桌面/ML/hw/hw5/checkpoints/transformer_bt/checkpoint20.pt\n",
            "2022-04-08 14:17:10 | INFO | hw5.seq2seq | end of epoch 20\n"
          ]
        },
        {
          "name": "stderr",
          "output_type": "stream",
          "text": [
            "                                                                            "
          ]
        },
        {
          "name": "stdout",
          "output_type": "stream",
          "text": [
            "2022-04-08 14:19:44 | INFO | hw5.seq2seq | training loss: 2.5500\n",
            "2022-04-08 14:19:44 | INFO | hw5.seq2seq | begin validation\n"
          ]
        },
        {
          "name": "stderr",
          "output_type": "stream",
          "text": [
            "                                                                            \r"
          ]
        },
        {
          "name": "stdout",
          "output_type": "stream",
          "text": [
            "2022-04-08 14:19:58 | WARNING | sacrebleu | That's 100 lines that end in a tokenized period ('.')\n",
            "2022-04-08 14:19:58 | WARNING | sacrebleu | It looks like you forgot to detokenize your test data, which may hurt your score.\n",
            "2022-04-08 14:19:58 | WARNING | sacrebleu | If you insist your data is detokenized, or don't care, you can suppress this message with the `force` parameter.\n",
            "2022-04-08 14:19:58 | INFO | hw5.seq2seq | example source: 你最近下載了什麼手機軟體 ?\n",
            "2022-04-08 14:19:58 | INFO | hw5.seq2seq | example hypothesis: what software did you download recently ?\n",
            "2022-04-08 14:19:58 | INFO | hw5.seq2seq | example reference: what's the last app you downloaded ?\n",
            "2022-04-08 14:19:58 | INFO | hw5.seq2seq | validation loss:\t2.6537\n",
            "2022-04-08 14:19:58 | INFO | hw5.seq2seq | BLEU = 19.44 56.5/27.7/15.3/8.7 (BP = 0.909 ratio = 0.913 hyp_len = 69385 ref_len = 75991)\n",
            "2022-04-08 14:19:58 | INFO | hw5.seq2seq | saved epoch checkpoint: /home/csypt/桌面/ML/hw/hw5/checkpoints/transformer_bt/checkpoint21.pt\n",
            "2022-04-08 14:19:58 | INFO | hw5.seq2seq | end of epoch 21\n"
          ]
        },
        {
          "name": "stderr",
          "output_type": "stream",
          "text": [
            "                                                                            "
          ]
        },
        {
          "name": "stdout",
          "output_type": "stream",
          "text": [
            "2022-04-08 14:22:31 | INFO | hw5.seq2seq | training loss: 2.5403\n",
            "2022-04-08 14:22:31 | INFO | hw5.seq2seq | begin validation\n"
          ]
        },
        {
          "name": "stderr",
          "output_type": "stream",
          "text": [
            "                                                                            \r"
          ]
        },
        {
          "name": "stdout",
          "output_type": "stream",
          "text": [
            "2022-04-08 14:22:45 | WARNING | sacrebleu | That's 100 lines that end in a tokenized period ('.')\n",
            "2022-04-08 14:22:45 | WARNING | sacrebleu | It looks like you forgot to detokenize your test data, which may hurt your score.\n",
            "2022-04-08 14:22:45 | WARNING | sacrebleu | If you insist your data is detokenized, or don't care, you can suppress this message with the `force` parameter.\n",
            "2022-04-08 14:22:45 | INFO | hw5.seq2seq | example source: 所以要是你認為我錯了 , 你最好好好找出為什麼你認為我是錯的 。\n",
            "2022-04-08 14:22:45 | INFO | hw5.seq2seq | example hypothesis: so if you think i'm wrong , you'd better find out why you think i'm wrong .\n",
            "2022-04-08 14:22:45 | INFO | hw5.seq2seq | example reference: so if you think that i'm wrong , you'd better damn well go and find out why you think i'm wrong .\n",
            "2022-04-08 14:22:45 | INFO | hw5.seq2seq | validation loss:\t2.6461\n",
            "2022-04-08 14:22:45 | INFO | hw5.seq2seq | BLEU = 19.63 56.6/27.8/15.4/8.8 (BP = 0.914 ratio = 0.918 hyp_len = 69730 ref_len = 75991)\n",
            "2022-04-08 14:22:45 | INFO | hw5.seq2seq | saved epoch checkpoint: /home/csypt/桌面/ML/hw/hw5/checkpoints/transformer_bt/checkpoint22.pt\n",
            "2022-04-08 14:22:45 | INFO | hw5.seq2seq | end of epoch 22\n"
          ]
        },
        {
          "name": "stderr",
          "output_type": "stream",
          "text": [
            "                                                                            "
          ]
        },
        {
          "name": "stdout",
          "output_type": "stream",
          "text": [
            "2022-04-08 14:25:18 | INFO | hw5.seq2seq | training loss: 2.5296\n",
            "2022-04-08 14:25:18 | INFO | hw5.seq2seq | begin validation\n"
          ]
        },
        {
          "name": "stderr",
          "output_type": "stream",
          "text": [
            "                                                                            \r"
          ]
        },
        {
          "name": "stdout",
          "output_type": "stream",
          "text": [
            "2022-04-08 14:25:31 | WARNING | sacrebleu | That's 100 lines that end in a tokenized period ('.')\n",
            "2022-04-08 14:25:31 | WARNING | sacrebleu | It looks like you forgot to detokenize your test data, which may hurt your score.\n",
            "2022-04-08 14:25:31 | WARNING | sacrebleu | If you insist your data is detokenized, or don't care, you can suppress this message with the `force` parameter.\n",
            "2022-04-08 14:25:31 | INFO | hw5.seq2seq | example source: 這不糟 , 因為你去了紐約州立大學石溪分校數學生涯更上層樓\n",
            "2022-04-08 14:25:31 | INFO | hw5.seq2seq | example hypothesis: that's not bad , because you went to new york state stream , and the students went upstairs .\n",
            "2022-04-08 14:25:31 | INFO | hw5.seq2seq | example reference: ca: it wasn't bad , because you went on to stony brook and stepped up your mathematical career .\n",
            "2022-04-08 14:25:31 | INFO | hw5.seq2seq | validation loss:\t2.6499\n",
            "2022-04-08 14:25:31 | INFO | hw5.seq2seq | BLEU = 19.26 57.9/28.6/16.1/9.3 (BP = 0.864 ratio = 0.872 hyp_len = 66300 ref_len = 75991)\n",
            "2022-04-08 14:25:31 | INFO | hw5.seq2seq | saved epoch checkpoint: /home/csypt/桌面/ML/hw/hw5/checkpoints/transformer_bt/checkpoint23.pt\n",
            "2022-04-08 14:25:31 | INFO | hw5.seq2seq | end of epoch 23\n"
          ]
        },
        {
          "name": "stderr",
          "output_type": "stream",
          "text": [
            "                                                                            "
          ]
        },
        {
          "name": "stdout",
          "output_type": "stream",
          "text": [
            "2022-04-08 14:28:04 | INFO | hw5.seq2seq | training loss: 2.5215\n",
            "2022-04-08 14:28:04 | INFO | hw5.seq2seq | begin validation\n"
          ]
        },
        {
          "name": "stderr",
          "output_type": "stream",
          "text": [
            "                                                                            \r"
          ]
        },
        {
          "name": "stdout",
          "output_type": "stream",
          "text": [
            "2022-04-08 14:28:18 | WARNING | sacrebleu | That's 100 lines that end in a tokenized period ('.')\n",
            "2022-04-08 14:28:18 | WARNING | sacrebleu | It looks like you forgot to detokenize your test data, which may hurt your score.\n",
            "2022-04-08 14:28:18 | WARNING | sacrebleu | If you insist your data is detokenized, or don't care, you can suppress this message with the `force` parameter.\n",
            "2022-04-08 14:28:18 | INFO | hw5.seq2seq | example source: 這位是kathleenmaxian ,\n",
            "2022-04-08 14:28:18 | INFO | hw5.seq2seq | example hypothesis: this is kathleen maxian .\n",
            "2022-04-08 14:28:18 | INFO | hw5.seq2seq | example reference: this is kathleen maxian .\n",
            "2022-04-08 14:28:18 | INFO | hw5.seq2seq | validation loss:\t2.6370\n",
            "2022-04-08 14:28:18 | INFO | hw5.seq2seq | BLEU = 19.62 56.8/28.0/15.7/9.0 (BP = 0.902 ratio = 0.907 hyp_len = 68905 ref_len = 75991)\n",
            "2022-04-08 14:28:18 | INFO | hw5.seq2seq | saved epoch checkpoint: /home/csypt/桌面/ML/hw/hw5/checkpoints/transformer_bt/checkpoint24.pt\n",
            "2022-04-08 14:28:18 | INFO | hw5.seq2seq | end of epoch 24\n"
          ]
        },
        {
          "name": "stderr",
          "output_type": "stream",
          "text": [
            "                                                                            "
          ]
        },
        {
          "name": "stdout",
          "output_type": "stream",
          "text": [
            "2022-04-08 14:30:51 | INFO | hw5.seq2seq | training loss: 2.5135\n",
            "2022-04-08 14:30:51 | INFO | hw5.seq2seq | begin validation\n"
          ]
        },
        {
          "name": "stderr",
          "output_type": "stream",
          "text": [
            "                                                                            \r"
          ]
        },
        {
          "name": "stdout",
          "output_type": "stream",
          "text": [
            "2022-04-08 14:31:04 | WARNING | sacrebleu | That's 100 lines that end in a tokenized period ('.')\n",
            "2022-04-08 14:31:04 | WARNING | sacrebleu | It looks like you forgot to detokenize your test data, which may hurt your score.\n",
            "2022-04-08 14:31:04 | WARNING | sacrebleu | If you insist your data is detokenized, or don't care, you can suppress this message with the `force` parameter.\n",
            "2022-04-08 14:31:04 | INFO | hw5.seq2seq | example source: 聯合國憲章 , 及一般說的布雷頓森林協定 , 世界銀行 , 國際貨幣基金 。\n",
            "2022-04-08 14:31:04 | INFO | hw5.seq2seq | example hypothesis: the u . n . constitution , the breton forest , the world bank , the international currency fund .\n",
            "2022-04-08 14:31:04 | INFO | hw5.seq2seq | example reference: the charter of the united nations , the bretton woods institutions , as they're called , the world bank , and the international monetary fund .\n",
            "2022-04-08 14:31:04 | INFO | hw5.seq2seq | validation loss:\t2.6424\n",
            "2022-04-08 14:31:04 | INFO | hw5.seq2seq | BLEU = 19.67 57.0/28.1/15.7/9.1 (BP = 0.898 ratio = 0.903 hyp_len = 68640 ref_len = 75991)\n",
            "2022-04-08 14:31:04 | INFO | hw5.seq2seq | saved epoch checkpoint: /home/csypt/桌面/ML/hw/hw5/checkpoints/transformer_bt/checkpoint25.pt\n",
            "2022-04-08 14:31:04 | INFO | hw5.seq2seq | end of epoch 25\n"
          ]
        },
        {
          "name": "stderr",
          "output_type": "stream",
          "text": [
            "                                                                            "
          ]
        },
        {
          "name": "stdout",
          "output_type": "stream",
          "text": [
            "2022-04-08 14:33:38 | INFO | hw5.seq2seq | training loss: 2.5064\n",
            "2022-04-08 14:33:38 | INFO | hw5.seq2seq | begin validation\n"
          ]
        },
        {
          "name": "stderr",
          "output_type": "stream",
          "text": [
            "                                                                            \r"
          ]
        },
        {
          "name": "stdout",
          "output_type": "stream",
          "text": [
            "2022-04-08 14:33:51 | WARNING | sacrebleu | That's 100 lines that end in a tokenized period ('.')\n",
            "2022-04-08 14:33:51 | WARNING | sacrebleu | It looks like you forgot to detokenize your test data, which may hurt your score.\n",
            "2022-04-08 14:33:51 | WARNING | sacrebleu | If you insist your data is detokenized, or don't care, you can suppress this message with the `force` parameter.\n",
            "2022-04-08 14:33:51 | INFO | hw5.seq2seq | example source: 大約一年之後我被允許做這個編外的項目 。\n",
            "2022-04-08 14:33:51 | INFO | hw5.seq2seq | example hypothesis: about a year later , i was allowed to do this program .\n",
            "2022-04-08 14:33:51 | INFO | hw5.seq2seq | example reference: i got permission in the end after about a year to basically do it as a side project .\n",
            "2022-04-08 14:33:51 | INFO | hw5.seq2seq | validation loss:\t2.6412\n",
            "2022-04-08 14:33:51 | INFO | hw5.seq2seq | BLEU = 19.74 57.7/28.7/16.2/9.5 (BP = 0.878 ratio = 0.885 hyp_len = 67224 ref_len = 75991)\n",
            "2022-04-08 14:33:51 | INFO | hw5.seq2seq | saved epoch checkpoint: /home/csypt/桌面/ML/hw/hw5/checkpoints/transformer_bt/checkpoint26.pt\n",
            "2022-04-08 14:33:51 | INFO | hw5.seq2seq | end of epoch 26\n"
          ]
        },
        {
          "name": "stderr",
          "output_type": "stream",
          "text": [
            "                                                                            "
          ]
        },
        {
          "name": "stdout",
          "output_type": "stream",
          "text": [
            "2022-04-08 14:36:25 | INFO | hw5.seq2seq | training loss: 2.4985\n",
            "2022-04-08 14:36:25 | INFO | hw5.seq2seq | begin validation\n"
          ]
        },
        {
          "name": "stderr",
          "output_type": "stream",
          "text": [
            "                                                                            \r"
          ]
        },
        {
          "name": "stdout",
          "output_type": "stream",
          "text": [
            "2022-04-08 14:36:39 | WARNING | sacrebleu | That's 100 lines that end in a tokenized period ('.')\n",
            "2022-04-08 14:36:39 | WARNING | sacrebleu | It looks like you forgot to detokenize your test data, which may hurt your score.\n",
            "2022-04-08 14:36:39 | WARNING | sacrebleu | If you insist your data is detokenized, or don't care, you can suppress this message with the `force` parameter.\n",
            "2022-04-08 14:36:39 | INFO | hw5.seq2seq | example source: 人們戰慄、逃跑因為我們使用恐懼\n",
            "2022-04-08 14:36:39 | INFO | hw5.seq2seq | example hypothesis: people are sharing , because we're using fear .\n",
            "2022-04-08 14:36:39 | INFO | hw5.seq2seq | example reference: people are freezing and running away because we're using fear .\n",
            "2022-04-08 14:36:39 | INFO | hw5.seq2seq | validation loss:\t2.6329\n",
            "2022-04-08 14:36:39 | INFO | hw5.seq2seq | BLEU = 19.83 56.1/27.5/15.3/8.9 (BP = 0.926 ratio = 0.929 hyp_len = 70594 ref_len = 75991)\n",
            "2022-04-08 14:36:39 | INFO | hw5.seq2seq | saved epoch checkpoint: /home/csypt/桌面/ML/hw/hw5/checkpoints/transformer_bt/checkpoint27.pt\n",
            "2022-04-08 14:36:39 | INFO | hw5.seq2seq | end of epoch 27\n"
          ]
        },
        {
          "name": "stderr",
          "output_type": "stream",
          "text": [
            "                                                                            "
          ]
        },
        {
          "name": "stdout",
          "output_type": "stream",
          "text": [
            "2022-04-08 14:39:13 | INFO | hw5.seq2seq | training loss: 2.4924\n",
            "2022-04-08 14:39:13 | INFO | hw5.seq2seq | begin validation\n"
          ]
        },
        {
          "name": "stderr",
          "output_type": "stream",
          "text": [
            "                                                                            \r"
          ]
        },
        {
          "name": "stdout",
          "output_type": "stream",
          "text": [
            "2022-04-08 14:39:27 | WARNING | sacrebleu | That's 100 lines that end in a tokenized period ('.')\n",
            "2022-04-08 14:39:27 | WARNING | sacrebleu | It looks like you forgot to detokenize your test data, which may hurt your score.\n",
            "2022-04-08 14:39:27 | WARNING | sacrebleu | If you insist your data is detokenized, or don't care, you can suppress this message with the `force` parameter.\n",
            "2022-04-08 14:39:27 | INFO | hw5.seq2seq | example source: 這塊地等著再次被水覆蓋、被吞噬 。\n",
            "2022-04-08 14:39:27 | INFO | hw5.seq2seq | example hypothesis: this land is waiting to be covered with water again , swallowed .\n",
            "2022-04-08 14:39:27 | INFO | hw5.seq2seq | example reference: the terrain was waiting to be covered over by the water , to be consumed .\n",
            "2022-04-08 14:39:27 | INFO | hw5.seq2seq | validation loss:\t2.6329\n",
            "2022-04-08 14:39:27 | INFO | hw5.seq2seq | BLEU = 19.74 56.6/27.8/15.5/9.0 (BP = 0.911 ratio = 0.915 hyp_len = 69513 ref_len = 75991)\n",
            "2022-04-08 14:39:27 | INFO | hw5.seq2seq | saved epoch checkpoint: /home/csypt/桌面/ML/hw/hw5/checkpoints/transformer_bt/checkpoint28.pt\n",
            "2022-04-08 14:39:27 | INFO | hw5.seq2seq | end of epoch 28\n"
          ]
        },
        {
          "name": "stderr",
          "output_type": "stream",
          "text": [
            "                                                                            "
          ]
        },
        {
          "name": "stdout",
          "output_type": "stream",
          "text": [
            "2022-04-08 14:42:01 | INFO | hw5.seq2seq | training loss: 2.4852\n",
            "2022-04-08 14:42:01 | INFO | hw5.seq2seq | begin validation\n"
          ]
        },
        {
          "name": "stderr",
          "output_type": "stream",
          "text": [
            "                                                                            \r"
          ]
        },
        {
          "name": "stdout",
          "output_type": "stream",
          "text": [
            "2022-04-08 14:42:15 | WARNING | sacrebleu | That's 100 lines that end in a tokenized period ('.')\n",
            "2022-04-08 14:42:15 | WARNING | sacrebleu | It looks like you forgot to detokenize your test data, which may hurt your score.\n",
            "2022-04-08 14:42:15 | WARNING | sacrebleu | If you insist your data is detokenized, or don't care, you can suppress this message with the `force` parameter.\n",
            "2022-04-08 14:42:15 | INFO | hw5.seq2seq | example source: 幾分鐘後氫氣與氦氣充滿了宇宙\n",
            "2022-04-08 14:42:15 | INFO | hw5.seq2seq | example hypothesis: a few minutes later , hydrogen and helium filled with the universe .\n",
            "2022-04-08 14:42:15 | INFO | hw5.seq2seq | example reference: after about a few minutes , there was hydrogen and helium in the universe . that's all .\n",
            "2022-04-08 14:42:15 | INFO | hw5.seq2seq | validation loss:\t2.6364\n",
            "2022-04-08 14:42:15 | INFO | hw5.seq2seq | BLEU = 19.68 57.0/28.1/15.8/9.2 (BP = 0.896 ratio = 0.901 hyp_len = 68501 ref_len = 75991)\n",
            "2022-04-08 14:42:15 | INFO | hw5.seq2seq | saved epoch checkpoint: /home/csypt/桌面/ML/hw/hw5/checkpoints/transformer_bt/checkpoint29.pt\n",
            "2022-04-08 14:42:15 | INFO | hw5.seq2seq | end of epoch 29\n"
          ]
        },
        {
          "name": "stderr",
          "output_type": "stream",
          "text": [
            "                                                                            "
          ]
        },
        {
          "name": "stdout",
          "output_type": "stream",
          "text": [
            "2022-04-08 14:44:49 | INFO | hw5.seq2seq | training loss: 2.4782\n",
            "2022-04-08 14:44:49 | INFO | hw5.seq2seq | begin validation\n"
          ]
        },
        {
          "name": "stderr",
          "output_type": "stream",
          "text": [
            "                                                                            \r"
          ]
        },
        {
          "name": "stdout",
          "output_type": "stream",
          "text": [
            "2022-04-08 14:45:03 | WARNING | sacrebleu | That's 100 lines that end in a tokenized period ('.')\n",
            "2022-04-08 14:45:03 | WARNING | sacrebleu | It looks like you forgot to detokenize your test data, which may hurt your score.\n",
            "2022-04-08 14:45:03 | WARNING | sacrebleu | If you insist your data is detokenized, or don't care, you can suppress this message with the `force` parameter.\n",
            "2022-04-08 14:45:03 | INFO | hw5.seq2seq | example source: 我們的策略並非大體制的改變 ,\n",
            "2022-04-08 14:45:03 | INFO | hw5.seq2seq | example hypothesis: our strategies are not changing the system .\n",
            "2022-04-08 14:45:03 | INFO | hw5.seq2seq | example reference: our strategy is not massive system change .\n",
            "2022-04-08 14:45:03 | INFO | hw5.seq2seq | validation loss:\t2.6284\n",
            "2022-04-08 14:45:03 | INFO | hw5.seq2seq | BLEU = 19.91 56.2/27.7/15.4/8.9 (BP = 0.926 ratio = 0.929 hyp_len = 70568 ref_len = 75991)\n",
            "2022-04-08 14:45:03 | INFO | hw5.seq2seq | saved epoch checkpoint: /home/csypt/桌面/ML/hw/hw5/checkpoints/transformer_bt/checkpoint30.pt\n",
            "2022-04-08 14:45:03 | INFO | hw5.seq2seq | end of epoch 30\n"
          ]
        }
      ],
      "source": [
        "epoch_itr = load_data_iterator(task, \"train\", config.start_epoch, config.max_tokens, config.num_workers)\n",
        "try_load_checkpoint(model, optimizer, name=config.resume)\n",
        "while epoch_itr.next_epoch_idx <= config.max_epoch:\n",
        "    # train for one epoch\n",
        "    train_one_epoch(epoch_itr, model, task, criterion, optimizer, config.accum_steps)\n",
        "    stats = validate_and_save(model, task, criterion, optimizer, epoch=epoch_itr.epoch)\n",
        "    logger.info(\"end of epoch {}\".format(epoch_itr.epoch))    \n",
        "    epoch_itr = load_data_iterator(task, \"train\", epoch_itr.next_epoch_idx, config.max_tokens, config.num_workers)"
      ]
    },
    {
      "cell_type": "code",
      "execution_count": 86,
      "metadata": {},
      "outputs": [
        {
          "data": {
            "image/png": "[encoded data removed]",
            "text/plain": [
              "<Figure size 432x288 with 1 Axes>"
            ]
          },
          "metadata": {
            "needs_background": "light"
          },
          "output_type": "display_data"
        }
      ],
      "source": [
        "data = [x.item() for x in grad_norm]\n",
        "plt.plot(data)\n",
        "plt.show()"
      ]
    },
    {
      "cell_type": "markdown",
      "metadata": {
        "id": "KyjRwllxPjtf"
      },
      "source": [
        "# Submission"
      ]
    },
    {
      "cell_type": "code",
      "execution_count": null,
      "metadata": {
        "id": "N70Gc6smPi1d"
      },
      "outputs": [],
      "source": [
        "# averaging a few checkpoints can have a similar effect to ensemble\n",
        "checkdir=config.savedir\n",
        "!python ./fairseq/scripts/average_checkpoints.py \\\n",
        "--inputs {checkdir} \\\n",
        "--num-epoch-checkpoints 5 \\\n",
        "--output {checkdir}/avg_last_5_checkpoint.pt"
      ]
    },
    {
      "cell_type": "markdown",
      "metadata": {
        "id": "BAGMiun8PnZy"
      },
      "source": [
        "## Confirm model weights used to generate submission"
      ]
    },
    {
      "cell_type": "code",
      "execution_count": null,
      "metadata": {
        "id": "tvRdivVUPnsU"
      },
      "outputs": [],
      "source": [
        "# checkpoint_last.pt : latest epoch\n",
        "# checkpoint_best.pt : highest validation bleu\n",
        "# avg_last_5_checkpoint.pt:　the average of last 5 epochs\n",
        "try_load_checkpoint(model, name=\"avg_last_5_checkpoint.pt\")\n",
        "validate(model, task, criterion, log_to_wandb=False)\n",
        "None"
      ]
    }
  ],
  "metadata": {
    "accelerator": "GPU",
    "colab": {
      "collapsed_sections": [
        "nKb4u67-sT_Z",
        "n1rwQysTsdJq",
        "59si_C0Wsms7",
        "oOpG4EBRLwe_",
        "6ZlE_1JnMv56",
        "UDAPmxjRNEEL",
        "ce5n4eS7NQNy",
        "rUB9f1WCNgMH",
        "VFJlkOMONsc6",
        "Gt1lX3DRO_yU",
        "BAGMiun8PnZy",
        "JOVQRHzGQU4-",
        "jegH0bvMQVmR",
        "a65glBVXQZiE",
        "smA0JraEQdxz",
        "Jn4XeawpQjLk"
      ],
      "name": "HW05.ipynb",
      "provenance": []
    },
    "kernelspec": {
      "display_name": "Python 3",
      "name": "python3"
    },
    "language_info": {
      "codemirror_mode": {
        "name": "ipython",
        "version": 3
      },
      "file_extension": ".py",
      "mimetype": "text/x-python",
      "name": "python",
      "nbconvert_exporter": "python",
      "pygments_lexer": "ipython3",
      "version": "3.9.7"
    }
  },
  "nbformat": 4,
  "nbformat_minor": 0
}
