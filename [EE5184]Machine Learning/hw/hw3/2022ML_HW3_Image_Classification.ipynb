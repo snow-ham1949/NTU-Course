{
  "cells": [
    {
      "cell_type": "markdown",
      "metadata": {
        "id": "jRDuJsGCgxCO"
      },
      "source": [
        "# HW3 Image Classification\n",
        "## We strongly recommend that you run with Kaggle for this homework\n",
        "https://www.kaggle.com/c/ml2022spring-hw3b/code?competitionId=34954&sortBy=dateCreated"
      ]
    },
    {
      "cell_type": "markdown",
      "metadata": {
        "id": "n5ceUnRihL-f"
      },
      "source": [
        "# Training"
      ]
    },
    {
      "cell_type": "code",
      "execution_count": null,
      "metadata": {
        "execution": {
          "iopub.execute_input": "2022-03-03T13:07:49.308172Z",
          "iopub.status.busy": "2022-03-03T13:07:49.307662Z",
          "iopub.status.idle": "2022-03-03T13:07:49.313283Z",
          "shell.execute_reply": "2022-03-03T13:07:49.311435Z",
          "shell.execute_reply.started": "2022-03-03T13:07:49.308134Z"
        },
        "id": "ay3WkYnHVaVE",
        "papermill": {
          "duration": 0.0189,
          "end_time": "2022-02-23T10:03:06.279758",
          "exception": false,
          "start_time": "2022-02-23T10:03:06.260858",
          "status": "completed"
        },
        "tags": [],
        "trusted": true
      },
      "outputs": [],
      "source": [
        "num = 0\n",
        "_exp_name = \"model\" + str(num)"
      ]
    },
    {
      "cell_type": "code",
      "execution_count": null,
      "metadata": {
        "execution": {
          "iopub.execute_input": "2022-03-03T13:07:49.315997Z",
          "iopub.status.busy": "2022-03-03T13:07:49.314913Z",
          "iopub.status.idle": "2022-03-03T13:07:50.877804Z",
          "shell.execute_reply": "2022-03-03T13:07:50.877072Z",
          "shell.execute_reply.started": "2022-03-03T13:07:49.315959Z"
        },
        "id": "CwOGtRWHVaVF",
        "papermill": {
          "duration": 1.654263,
          "end_time": "2022-02-23T10:03:07.947242",
          "exception": false,
          "start_time": "2022-02-23T10:03:06.292979",
          "status": "completed"
        },
        "tags": [],
        "trusted": true
      },
      "outputs": [],
      "source": [
        "# Import necessary packages.\n",
        "import numpy as np\n",
        "import pandas as pd\n",
        "import torch\n",
        "import os\n",
        "import torch.nn as nn\n",
        "import torchvision.transforms as transforms\n",
        "from PIL import Image\n",
        "# \"ConcatDataset\" and \"Subset\" are possibly useful when doing semi-supervised learning.\n",
        "from torch.utils.data import ConcatDataset, DataLoader, Subset, Dataset\n",
        "from torchvision.datasets import DatasetFolder, VisionDataset\n",
        "\n",
        "# This is for the progress bar.\n",
        "from tqdm.auto import tqdm\n",
        "import random"
      ]
    },
    {
      "cell_type": "code",
      "execution_count": null,
      "metadata": {
        "execution": {
          "iopub.execute_input": "2022-03-03T13:07:50.879924Z",
          "iopub.status.busy": "2022-03-03T13:07:50.879715Z",
          "iopub.status.idle": "2022-03-03T13:07:50.93271Z",
          "shell.execute_reply": "2022-03-03T13:07:50.932056Z",
          "shell.execute_reply.started": "2022-03-03T13:07:50.879894Z"
        },
        "id": "8kJm9GekVaVH",
        "papermill": {
          "duration": 0.078771,
          "end_time": "2022-02-23T10:03:08.039428",
          "exception": false,
          "start_time": "2022-02-23T10:03:07.960657",
          "status": "completed"
        },
        "tags": [],
        "trusted": true
      },
      "outputs": [],
      "source": [
        "myseed = 459  # set a random seed for reproducibility\n",
        "torch.backends.cudnn.deterministic = True\n",
        "torch.backends.cudnn.benchmark = False\n",
        "np.random.seed(myseed)\n",
        "torch.manual_seed(myseed)\n",
        "if torch.cuda.is_available():\n",
        "    torch.cuda.manual_seed_all(myseed)"
      ]
    },
    {
      "cell_type": "markdown",
      "metadata": {
        "id": "d9MVtgbSVaVH",
        "papermill": {
          "duration": 0.01289,
          "end_time": "2022-02-23T10:03:08.065357",
          "exception": false,
          "start_time": "2022-02-23T10:03:08.052467",
          "status": "completed"
        },
        "tags": []
      },
      "source": [
        "## **Transforms**\n",
        "Torchvision provides lots of useful utilities for image preprocessing, data wrapping as well as data augmentation.\n",
        "\n",
        "Please refer to PyTorch official website for details about different transforms."
      ]
    },
    {
      "cell_type": "code",
      "execution_count": null,
      "metadata": {
        "execution": {
          "iopub.execute_input": "2022-03-03T13:07:50.935618Z",
          "iopub.status.busy": "2022-03-03T13:07:50.935424Z",
          "iopub.status.idle": "2022-03-03T13:07:50.942922Z",
          "shell.execute_reply": "2022-03-03T13:07:50.942191Z",
          "shell.execute_reply.started": "2022-03-03T13:07:50.935594Z"
        },
        "id": "jvI3Xmq4VaVJ",
        "papermill": {
          "duration": 0.021406,
          "end_time": "2022-02-23T10:03:08.099437",
          "exception": false,
          "start_time": "2022-02-23T10:03:08.078031",
          "status": "completed"
        },
        "tags": [],
        "trusted": true
      },
      "outputs": [],
      "source": [
        "# Normally, We don't need augmentations in testing and validation.\n",
        "# All we need here is to resize the PIL image and transform it into Tensor.\n",
        "test_tfm = transforms.Compose([\n",
        "    transforms.Resize((128, 128)),\n",
        "    transforms.ToTensor(),\n",
        "])\n",
        "\n",
        "# However, it is also possible to use augmentation in the testing phase.\n",
        "# You may use train_tfm to produce a variety of images and then test using ensemble methods\n",
        "train_tfm = transforms.Compose([\n",
        "    # Resize the image into a fixed shape (height = width = 128)\n",
        "    transforms.Resize((128, 128)),\n",
        "    # You may add some transforms here.\n",
        "    # ToTensor() should be the last one of the transforms.\n",
        "    transforms.RandomRotation(40),\n",
        "    transforms.RandomVerticalFlip(p=0.3),\n",
        "    transforms.RandomAffine(degrees=0, translate=(0.2, 0.2), shear=0.2),\n",
        "    transforms.ColorJitter(brightness=0.1, contrast=0.1, saturation=0.1),\n",
        "    transforms.RandomHorizontalFlip(p=0.5),\n",
        "    transforms.ToTensor(),\n",
        "])\n",
        "\n",
        "# for prediction 0\n",
        "# test_tfm = transforms.Compose([\n",
        "#     transforms.Resize((128, 128)),\n",
        "#     transforms.ToTensor(),\n",
        "# ])\n",
        "\n",
        "# # However, it is also possible to use augmentation in the testing phase.\n",
        "# # You may use train_tfm to produce a variety of images and then test using ensemble methods\n",
        "# train_tfm = transforms.Compose([\n",
        "#     # Resize the image into a fixed shape (height = width = 128)\n",
        "#     transforms.Resize((128, 128)),\n",
        "#     # You may add some transforms here.\n",
        "#     # ToTensor() should be the last one of the transforms.\n",
        "#     transforms.RandomRotation(40),\n",
        "#     transforms.RandomVerticalFlip(p=0.3),\n",
        "#     transforms.RandomAffine(degrees=0, translate=(0.2, 0.2), shear=0.2),\n",
        "#     transforms.ColorJitter(brightness=0.1, contrast=0.1, saturation=0.1),\n",
        "#     transforms.RandomHorizontalFlip(p=0.5),\n",
        "#     transforms.ToTensor(),\n",
        "# ])\n",
        "\n",
        "# for prediction 4\n",
        "# test_tfm = transforms.Compose([\n",
        "#     transforms.Resize((128, 128)),\n",
        "#     transforms.RandomRotation(40),\n",
        "#     transforms.RandomAffine(degrees=0, translate=(0.2, 0.2), shear=0.2),\n",
        "#     transforms.RandomHorizontalFlip(p=0.5),\n",
        "#     transforms.ToTensor(),\n",
        "# ])\n",
        "\n",
        "# # However, it is also possible to use augmentation in the testing phase.\n",
        "# # You may use train_tfm to produce a variety of images and then test using ensemble methods\n",
        "# train_tfm = transforms.Compose([\n",
        "#     # Resize the image into a fixed shape (height = width = 128)\n",
        "#     transforms.Resize((128, 128)),\n",
        "#     # You may add some transforms here.\n",
        "#     # ToTensor() should be the last one of the transforms.\n",
        "#     transforms.RandomRotation(40),\n",
        "#     transforms.RandomAffine(degrees=0, translate=(0.2, 0.2), shear=0.2),\n",
        "#     transforms.RandomHorizontalFlip(p=0.5),\n",
        "#     transforms.ToTensor(),\n",
        "# ])\n"
      ]
    },
    {
      "cell_type": "markdown",
      "metadata": {
        "id": "D0ivMf-jVaVK",
        "papermill": {
          "duration": 0.012739,
          "end_time": "2022-02-23T10:03:08.125181",
          "exception": false,
          "start_time": "2022-02-23T10:03:08.112442",
          "status": "completed"
        },
        "tags": []
      },
      "source": [
        "## **Datasets**\n",
        "The data is labelled by the name, so we load images and label while calling '__getitem__'"
      ]
    },
    {
      "cell_type": "code",
      "execution_count": null,
      "metadata": {
        "execution": {
          "iopub.execute_input": "2022-03-03T13:07:50.945969Z",
          "iopub.status.busy": "2022-03-03T13:07:50.945683Z",
          "iopub.status.idle": "2022-03-03T13:07:50.954587Z",
          "shell.execute_reply": "2022-03-03T13:07:50.953785Z",
          "shell.execute_reply.started": "2022-03-03T13:07:50.94592Z"
        },
        "id": "xBdtPhKwVaVL",
        "papermill": {
          "duration": 0.023022,
          "end_time": "2022-02-23T10:03:08.160912",
          "exception": false,
          "start_time": "2022-02-23T10:03:08.13789",
          "status": "completed"
        },
        "tags": [],
        "trusted": true
      },
      "outputs": [],
      "source": [
        "class FoodDataset(Dataset):\n",
        "\n",
        "    def __init__(self,path,tfm=test_tfm,files = None):\n",
        "        super(FoodDataset).__init__()\n",
        "        self.path = path\n",
        "        self.files = sorted([os.path.join(path,x) for x in os.listdir(path) if x.endswith(\".jpg\")])\n",
        "        if files != None:\n",
        "            self.files = files\n",
        "        print(f\"One {path} sample\",self.files[0])\n",
        "        self.transform = tfm\n",
        "  \n",
        "    def __len__(self):\n",
        "        return len(self.files)\n",
        "  \n",
        "    def __getitem__(self,idx):\n",
        "        fname = self.files[idx]\n",
        "        im = Image.open(fname)\n",
        "        im = self.transform(im)\n",
        "        #im = self.data[idx]\n",
        "        try:\n",
        "            label = int(fname.split(\"\\\\\")[-1].split(\"_\")[0])\n",
        "        except:\n",
        "            label = -1 # test has no label\n",
        "        return im,label\n",
        "\n"
      ]
    },
    {
      "cell_type": "code",
      "execution_count": null,
      "metadata": {
        "execution": {
          "iopub.execute_input": "2022-03-03T13:07:50.956055Z",
          "iopub.status.busy": "2022-03-03T13:07:50.955744Z",
          "iopub.status.idle": "2022-03-03T13:07:50.969275Z",
          "shell.execute_reply": "2022-03-03T13:07:50.968626Z",
          "shell.execute_reply.started": "2022-03-03T13:07:50.955996Z"
        },
        "id": "b_kDECOJVaVL",
        "papermill": {
          "duration": 0.0258,
          "end_time": "2022-02-23T10:03:08.199437",
          "exception": false,
          "start_time": "2022-02-23T10:03:08.173637",
          "status": "completed"
        },
        "tags": [],
        "trusted": true
      },
      "outputs": [],
      "source": [
        "class Classifier(nn.Module):\n",
        "    def __init__(self):\n",
        "        super(Classifier, self).__init__()\n",
        "        # torch.nn.Conv2d(in_channels, out_channels, kernel_size, stride, padding)\n",
        "        # torch.nn.MaxPool2d(kernel_size, stride, padding)\n",
        "        # input 維度 [3, 128, 128]\n",
        "        # change input dimension into [3, 224, 224] (2022/3/12)\n",
        "        self.cnn = nn.Sequential(\n",
        "            nn.Conv2d(3, 64, 3, 1, 1),  # [64, 128, 128]\n",
        "            nn.BatchNorm2d(64),\n",
        "            nn.LeakyReLU(),\n",
        "            nn.MaxPool2d(2, 2, 0),      # [64, 64, 64]\n",
        "\n",
        "            nn.Conv2d(64, 128, 3, 1, 1), # [128, 64, 64]\n",
        "            nn.BatchNorm2d(128),\n",
        "            nn.LeakyReLU(),\n",
        "            nn.MaxPool2d(2, 2, 0),      # [128, 32, 32]\n",
        "\n",
        "            nn.Conv2d(128, 256, 3, 1, 1), # [256, 32, 32]\n",
        "            nn.BatchNorm2d(256),\n",
        "            nn.LeakyReLU(),\n",
        "            nn.MaxPool2d(2, 2, 0),      # [256, 16, 16]\n",
        "\n",
        "            nn.Conv2d(256, 512, 3, 1, 1), # [512, 16, 16]\n",
        "            nn.BatchNorm2d(512),\n",
        "            nn.LeakyReLU(),\n",
        "            nn.MaxPool2d(2, 2, 0),       # [512, 8, 8]\n",
        "            \n",
        "            nn.Conv2d(512, 512, 3, 1, 1), # [512, 8, 8]\n",
        "            nn.BatchNorm2d(512),\n",
        "            nn.LeakyReLU(),\n",
        "            nn.MaxPool2d(2, 2, 0),       # [512, 4, 4]\n",
        "        )\n",
        "        self.fc = nn.Sequential(\n",
        "            nn.Linear(512*4*4, 1024),\n",
        "            nn.BatchNorm1d(1024),\n",
        "            nn.LeakyReLU(),\n",
        "            nn.Linear(1024, 512),\n",
        "            nn.LeakyReLU(),\n",
        "            nn.Linear(512, 11)\n",
        "        )\n",
        "\n",
        "    def forward(self, x):\n",
        "        out = self.cnn(x)\n",
        "        x = x.flatten(1)\n",
        "        out = out.view(out.size()[0], -1)\n",
        "        return self.fc(out)"
      ]
    },
    {
      "cell_type": "code",
      "execution_count": null,
      "metadata": {
        "colab": {
          "base_uri": "https://localhost:8080/"
        },
        "execution": {
          "iopub.execute_input": "2022-03-03T13:07:50.972575Z",
          "iopub.status.busy": "2022-03-03T13:07:50.972296Z",
          "iopub.status.idle": "2022-03-03T13:07:51.01795Z",
          "shell.execute_reply": "2022-03-03T13:07:51.017303Z",
          "shell.execute_reply.started": "2022-03-03T13:07:50.972549Z"
        },
        "id": "2_OeWtstVaVO",
        "outputId": "5d8777e0-f417-4d98-88dd-bb7e9dfb8a82",
        "papermill": {
          "duration": 0.054295,
          "end_time": "2022-02-23T10:03:08.266338",
          "exception": false,
          "start_time": "2022-02-23T10:03:08.212043",
          "status": "completed"
        },
        "tags": [],
        "trusted": true
      },
      "outputs": [],
      "source": [
        "batch_size = 64\n",
        "_dataset_dir = \"./food11\"\n",
        "# Construct datasets.\n",
        "# The argument \"loader\" tells how torchvision reads the data.\n",
        "train_set = FoodDataset(os.path.join(_dataset_dir,\"training\"), tfm=train_tfm)\n",
        "train_loader = DataLoader(train_set, batch_size=batch_size, shuffle=True, num_workers=0, pin_memory=True)\n",
        "valid_set = FoodDataset(os.path.join(_dataset_dir,\"validation\"), tfm=test_tfm)\n",
        "valid_loader = DataLoader(valid_set, batch_size=batch_size, shuffle=True, num_workers=0, pin_memory=True)"
      ]
    },
    {
      "cell_type": "code",
      "execution_count": null,
      "metadata": {
        "colab": {
          "base_uri": "https://localhost:8080/",
          "height": 49,
          "referenced_widgets": [
            "948a10173d2f43a8a19bccca4b9e540e",
            "a860cf5dcacb409d8fa57fca37d9bae0",
            "ea0877aa16e94deea028e2080dac72a1",
            "f93c0a503da34fe68115459898a8f0be",
            "fa59316262f94ea880692b679f8a4281",
            "22b41e826f164146b2379157f4b90ffb",
            "48e52dd5b0a94fab829c235d3692a5f4",
            "684d4e38921241cab5ef27f99d835a29",
            "d25adc1c9ae949f395701b89906f98fa",
            "b2e2203afb1d401db08ec01d8afb1dd5",
            "c29af43f89844c81a99b0c07bce744a4"
          ]
        },
        "execution": {
          "iopub.execute_input": "2022-03-03T13:07:51.019338Z",
          "iopub.status.busy": "2022-03-03T13:07:51.019126Z",
          "iopub.status.idle": "2022-03-03T13:12:03.270333Z",
          "shell.execute_reply": "2022-03-03T13:12:03.269658Z",
          "shell.execute_reply.started": "2022-03-03T13:07:51.019309Z"
        },
        "id": "zbVkfIFhVaVO",
        "outputId": "d9d74149-d54c-4ab7-85d7-db9b212db535",
        "papermill": {
          "duration": 32830.720158,
          "end_time": "2022-02-23T19:10:19.001001",
          "exception": false,
          "start_time": "2022-02-23T10:03:08.280843",
          "status": "completed"
        },
        "tags": [],
        "trusted": true
      },
      "outputs": [],
      "source": [
        "# \"cuda\" only when GPUs are available.\n",
        "device = \"cuda\" if torch.cuda.is_available() else \"cpu\"\n",
        "\n",
        "# The number of training epochs and patience.\n",
        "n_epochs = 100\n",
        "patience = 300 # If no improvement in 'patience' epochs, early stop\n",
        "\n",
        "# Initialize a model, and put it on the device specified.\n",
        "model = Classifier().to(device)\n",
        "\n",
        "# For the classification task, we use cross-entropy as the measurement of performance.\n",
        "criterion = nn.CrossEntropyLoss()\n",
        "\n",
        "# Initialize optimizer, you may fine-tune some hyperparameters such as learning rate on your own.\n",
        "optimizer = torch.optim.Adam(model.parameters(), lr=0.001, weight_decay=1e-4) \n",
        "\n",
        "# Initialize trackers, these are not parameters and should not be changed\n",
        "stale = 0\n",
        "best_acc = 0\n",
        "\n",
        "for epoch in range(n_epochs):\n",
        "\n",
        "    # ---------- Training ----------\n",
        "    # Make sure the model is in train mode before training.\n",
        "    model.train()\n",
        "\n",
        "    # These are used to record information in training.\n",
        "    train_loss = []\n",
        "    train_accs = []\n",
        "\n",
        "    for batch in tqdm(train_loader):\n",
        "\n",
        "        # A batch consists of image data and corresponding labels.\n",
        "        imgs, labels = batch\n",
        "        #imgs = imgs.half()\n",
        "        #print(imgs.shape,labels.shape)\n",
        "\n",
        "        # Forward the data. (Make sure data and model are on the same device.)\n",
        "        logits = model(imgs.to(device))\n",
        "\n",
        "        # Calculate the cross-entropy loss.\n",
        "        # We don't need to apply softmax before computing cross-entropy as it is done automatically.\n",
        "        loss = criterion(logits, labels.to(device))\n",
        "\n",
        "        # Gradients stored in the parameters in the previous step should be cleared out first.\n",
        "        optimizer.zero_grad()\n",
        "\n",
        "        # Compute the gradients for parameters.\n",
        "        loss.backward()\n",
        "\n",
        "        # Clip the gradient norms for stable training.\n",
        "        grad_norm = nn.utils.clip_grad_norm_(model.parameters(), max_norm=10)\n",
        "\n",
        "        # Update the parameters with computed gradients.\n",
        "        optimizer.step()\n",
        "\n",
        "        # Compute the accuracy for current batch.\n",
        "        acc = (logits.argmax(dim=-1) == labels.to(device)).float().mean()\n",
        "\n",
        "        # Record the loss and accuracy.\n",
        "        train_loss.append(loss.item())\n",
        "        train_accs.append(acc)\n",
        "        \n",
        "    train_loss = sum(train_loss) / len(train_loss)\n",
        "    train_acc = sum(train_accs) / len(train_accs)\n",
        "\n",
        "    # Print the information.\n",
        "    print(f\"[ Train | {epoch + 1:03d}/{n_epochs:03d} ] loss = {train_loss:.5f}, acc = {train_acc:.5f}\")\n",
        "\n",
        "    # ---------- Validation ----------\n",
        "    # Make sure the model is in eval mode so that some modules like dropout are disabled and work normally.\n",
        "    model.eval()\n",
        "\n",
        "    # These are used to record information in validation.\n",
        "    valid_loss = []\n",
        "    valid_accs = []\n",
        "\n",
        "    # Iterate the validation set by batches.\n",
        "    for batch in tqdm(valid_loader):\n",
        "\n",
        "        # A batch consists of image data and corresponding labels.\n",
        "        imgs, labels = batch\n",
        "        #imgs = imgs.half()\n",
        "\n",
        "        # We don't need gradient in validation.\n",
        "        # Using torch.no_grad() accelerates the forward process.\n",
        "        with torch.no_grad():\n",
        "            logits = model(imgs.to(device))\n",
        "\n",
        "        # We can still compute the loss (but not the gradient).\n",
        "        loss = criterion(logits, labels.to(device))\n",
        "\n",
        "        # Compute the accuracy for current batch.\n",
        "        acc = (logits.argmax(dim=-1) == labels.to(device)).float().mean()\n",
        "\n",
        "        # Record the loss and accuracy.\n",
        "        valid_loss.append(loss.item())\n",
        "        valid_accs.append(acc)\n",
        "        #break\n",
        "\n",
        "    # The average loss and accuracy for entire validation set is the average of the recorded values.\n",
        "    valid_loss = sum(valid_loss) / len(valid_loss)\n",
        "    valid_acc = sum(valid_accs) / len(valid_accs)\n",
        "\n",
        "    # Print the information.\n",
        "    print(f\"[ Valid | {epoch + 1:03d}/{n_epochs:03d} ] loss = {valid_loss:.5f}, acc = {valid_acc:.5f}\")\n",
        "\n",
        "\n",
        "    # update logs\n",
        "    if valid_acc > best_acc:\n",
        "        with open(f\"./{_exp_name}_log.txt\",\"a\"):\n",
        "            print(f\"[ Valid | {epoch + 1:03d}/{n_epochs:03d} ] loss = {valid_loss:.5f}, acc = {valid_acc:.5f} -> best\")\n",
        "    else:\n",
        "        with open(f\"./{_exp_name}_log.txt\",\"a\"):\n",
        "            print(f\"[ Valid | {epoch + 1:03d}/{n_epochs:03d} ] loss = {valid_loss:.5f}, acc = {valid_acc:.5f}\")\n",
        "\n",
        "\n",
        "    # save models\n",
        "    if valid_acc > best_acc:\n",
        "        print(f\"Best model found at epoch {epoch}, saving model\")\n",
        "        torch.save(model.state_dict(), f\"{_exp_name}_best.ckpt\") # only save best to prevent output memory exceed error\n",
        "        best_acc = valid_acc\n",
        "        stale = 0\n",
        "    else:\n",
        "        stale += 1\n",
        "        if stale > patience:\n",
        "            print(f\"No improvment {patience} consecutive epochs, early stopping\")\n",
        "            break"
      ]
    },
    {
      "cell_type": "code",
      "execution_count": null,
      "metadata": {
        "execution": {
          "iopub.execute_input": "2022-03-03T13:12:03.273089Z",
          "iopub.status.busy": "2022-03-03T13:12:03.272682Z",
          "iopub.status.idle": "2022-03-03T13:12:03.288146Z",
          "shell.execute_reply": "2022-03-03T13:12:03.287465Z",
          "shell.execute_reply.started": "2022-03-03T13:12:03.273048Z"
        },
        "id": "B9QNdHIXVaVP",
        "papermill": {
          "duration": 0.493644,
          "end_time": "2022-02-23T19:10:19.985992",
          "exception": false,
          "start_time": "2022-02-23T19:10:19.492348",
          "status": "completed"
        },
        "tags": [],
        "trusted": true
      },
      "outputs": [],
      "source": [
        "test_set = FoodDataset(os.path.join(_dataset_dir,\"test\"), tfm=test_tfm)\n",
        "test_loader = DataLoader(test_set, batch_size=batch_size, shuffle=False, num_workers=0, pin_memory=True)"
      ]
    },
    {
      "cell_type": "markdown",
      "metadata": {
        "id": "G31uyjpvVaVP",
        "papermill": {
          "duration": 0.498773,
          "end_time": "2022-02-23T19:10:20.961802",
          "exception": false,
          "start_time": "2022-02-23T19:10:20.463029",
          "status": "completed"
        },
        "tags": []
      },
      "source": [
        "# Testing and generate prediction CSV"
      ]
    },
    {
      "cell_type": "code",
      "execution_count": null,
      "metadata": {
        "execution": {
          "iopub.execute_input": "2022-03-03T13:12:03.290671Z",
          "iopub.status.busy": "2022-03-03T13:12:03.290214Z",
          "iopub.status.idle": "2022-03-03T13:12:37.20328Z",
          "shell.execute_reply": "2022-03-03T13:12:37.202502Z",
          "shell.execute_reply.started": "2022-03-03T13:12:03.290624Z"
        },
        "id": "bpLtxx5FVaVP",
        "papermill": {
          "duration": 49.157727,
          "end_time": "2022-02-23T19:11:10.61523",
          "exception": false,
          "start_time": "2022-02-23T19:10:21.457503",
          "status": "completed"
        },
        "tags": [],
        "trusted": true
      },
      "outputs": [],
      "source": [
        "model_best = Classifier().to(device)\n",
        "model_best.load_state_dict(torch.load(f\"{_exp_name}_best.ckpt\"))\n",
        "model_best.eval()\n",
        "prediction = []\n",
        "with torch.no_grad():\n",
        "    for data,_ in test_loader:\n",
        "        test_pred = model_best(data.to(device))\n",
        "        test_label = np.argmax(test_pred.cpu().data.numpy(), axis=1)\n",
        "        prediction += test_label.squeeze().tolist()"
      ]
    },
    {
      "cell_type": "code",
      "execution_count": null,
      "metadata": {
        "execution": {
          "iopub.execute_input": "2022-03-03T13:12:37.204789Z",
          "iopub.status.busy": "2022-03-03T13:12:37.20452Z",
          "iopub.status.idle": "2022-03-03T13:12:37.235831Z",
          "shell.execute_reply": "2022-03-03T13:12:37.235207Z",
          "shell.execute_reply.started": "2022-03-03T13:12:37.204753Z"
        },
        "id": "fKupB3VUVaVQ",
        "papermill": {
          "duration": 0.554276,
          "end_time": "2022-02-23T19:11:11.870035",
          "exception": false,
          "start_time": "2022-02-23T19:11:11.315759",
          "status": "completed"
        },
        "tags": [],
        "trusted": true
      },
      "outputs": [],
      "source": [
        "#create test csv\n",
        "def pad4(i):\n",
        "    return \"0\"*(4-len(str(i)))+str(i)\n",
        "df = pd.DataFrame()\n",
        "df[\"Id\"] = [pad4(i) for i in range(1,len(test_set)+1)]\n",
        "df[\"Category\"] = prediction\n",
        "name = 'predict_' + str(num) + '.csv'\n",
        "df.to_csv(name,index = False)"
      ]
    }
  ],
  "metadata": {
    "colab": {
      "collapsed_sections": [],
      "name": "2022ML HW3 Image Classification",
      "provenance": []
    },
    "kernelspec": {
      "display_name": "Python 3",
      "language": "python",
      "name": "python3"
    },
    "language_info": {
      "codemirror_mode": {
        "name": "ipython",
        "version": 3
      },
      "file_extension": ".py",
      "mimetype": "text/x-python",
      "name": "python",
      "nbconvert_exporter": "python",
      "pygments_lexer": "ipython3",
      "version": "3.9.7"
    },
    "widgets": {
      "application/vnd.jupyter.widget-state+json": {
        "22b41e826f164146b2379157f4b90ffb": {
          "model_module": "@jupyter-widgets/base",
          "model_module_version": "1.2.0",
          "model_name": "LayoutModel",
          "state": {
            "_model_module": "@jupyter-widgets/base",
            "_model_module_version": "1.2.0",
            "_model_name": "LayoutModel",
            "_view_count": null,
            "_view_module": "@jupyter-widgets/base",
            "_view_module_version": "1.2.0",
            "_view_name": "LayoutView",
            "align_content": null,
            "align_items": null,
            "align_self": null,
            "border": null,
            "bottom": null,
            "display": null,
            "flex": null,
            "flex_flow": null,
            "grid_area": null,
            "grid_auto_columns": null,
            "grid_auto_flow": null,
            "grid_auto_rows": null,
            "grid_column": null,
            "grid_gap": null,
            "grid_row": null,
            "grid_template_areas": null,
            "grid_template_columns": null,
            "grid_template_rows": null,
            "height": null,
            "justify_content": null,
            "justify_items": null,
            "left": null,
            "margin": null,
            "max_height": null,
            "max_width": null,
            "min_height": null,
            "min_width": null,
            "object_fit": null,
            "object_position": null,
            "order": null,
            "overflow": null,
            "overflow_x": null,
            "overflow_y": null,
            "padding": null,
            "right": null,
            "top": null,
            "visibility": null,
            "width": null
          }
        },
        "48e52dd5b0a94fab829c235d3692a5f4": {
          "model_module": "@jupyter-widgets/controls",
          "model_module_version": "1.5.0",
          "model_name": "DescriptionStyleModel",
          "state": {
            "_model_module": "@jupyter-widgets/controls",
            "_model_module_version": "1.5.0",
            "_model_name": "DescriptionStyleModel",
            "_view_count": null,
            "_view_module": "@jupyter-widgets/base",
            "_view_module_version": "1.2.0",
            "_view_name": "StyleView",
            "description_width": ""
          }
        },
        "684d4e38921241cab5ef27f99d835a29": {
          "model_module": "@jupyter-widgets/base",
          "model_module_version": "1.2.0",
          "model_name": "LayoutModel",
          "state": {
            "_model_module": "@jupyter-widgets/base",
            "_model_module_version": "1.2.0",
            "_model_name": "LayoutModel",
            "_view_count": null,
            "_view_module": "@jupyter-widgets/base",
            "_view_module_version": "1.2.0",
            "_view_name": "LayoutView",
            "align_content": null,
            "align_items": null,
            "align_self": null,
            "border": null,
            "bottom": null,
            "display": null,
            "flex": null,
            "flex_flow": null,
            "grid_area": null,
            "grid_auto_columns": null,
            "grid_auto_flow": null,
            "grid_auto_rows": null,
            "grid_column": null,
            "grid_gap": null,
            "grid_row": null,
            "grid_template_areas": null,
            "grid_template_columns": null,
            "grid_template_rows": null,
            "height": null,
            "justify_content": null,
            "justify_items": null,
            "left": null,
            "margin": null,
            "max_height": null,
            "max_width": null,
            "min_height": null,
            "min_width": null,
            "object_fit": null,
            "object_position": null,
            "order": null,
            "overflow": null,
            "overflow_x": null,
            "overflow_y": null,
            "padding": null,
            "right": null,
            "top": null,
            "visibility": null,
            "width": null
          }
        },
        "948a10173d2f43a8a19bccca4b9e540e": {
          "model_module": "@jupyter-widgets/controls",
          "model_module_version": "1.5.0",
          "model_name": "HBoxModel",
          "state": {
            "_dom_classes": [],
            "_model_module": "@jupyter-widgets/controls",
            "_model_module_version": "1.5.0",
            "_model_name": "HBoxModel",
            "_view_count": null,
            "_view_module": "@jupyter-widgets/controls",
            "_view_module_version": "1.5.0",
            "_view_name": "HBoxView",
            "box_style": "",
            "children": [
              "IPY_MODEL_a860cf5dcacb409d8fa57fca37d9bae0",
              "IPY_MODEL_ea0877aa16e94deea028e2080dac72a1",
              "IPY_MODEL_f93c0a503da34fe68115459898a8f0be"
            ],
            "layout": "IPY_MODEL_fa59316262f94ea880692b679f8a4281"
          }
        },
        "a860cf5dcacb409d8fa57fca37d9bae0": {
          "model_module": "@jupyter-widgets/controls",
          "model_module_version": "1.5.0",
          "model_name": "HTMLModel",
          "state": {
            "_dom_classes": [],
            "_model_module": "@jupyter-widgets/controls",
            "_model_module_version": "1.5.0",
            "_model_name": "HTMLModel",
            "_view_count": null,
            "_view_module": "@jupyter-widgets/controls",
            "_view_module_version": "1.5.0",
            "_view_name": "HTMLView",
            "description": "",
            "description_tooltip": null,
            "layout": "IPY_MODEL_22b41e826f164146b2379157f4b90ffb",
            "placeholder": "​",
            "style": "IPY_MODEL_48e52dd5b0a94fab829c235d3692a5f4",
            "value": "  6%"
          }
        },
        "b2e2203afb1d401db08ec01d8afb1dd5": {
          "model_module": "@jupyter-widgets/base",
          "model_module_version": "1.2.0",
          "model_name": "LayoutModel",
          "state": {
            "_model_module": "@jupyter-widgets/base",
            "_model_module_version": "1.2.0",
            "_model_name": "LayoutModel",
            "_view_count": null,
            "_view_module": "@jupyter-widgets/base",
            "_view_module_version": "1.2.0",
            "_view_name": "LayoutView",
            "align_content": null,
            "align_items": null,
            "align_self": null,
            "border": null,
            "bottom": null,
            "display": null,
            "flex": null,
            "flex_flow": null,
            "grid_area": null,
            "grid_auto_columns": null,
            "grid_auto_flow": null,
            "grid_auto_rows": null,
            "grid_column": null,
            "grid_gap": null,
            "grid_row": null,
            "grid_template_areas": null,
            "grid_template_columns": null,
            "grid_template_rows": null,
            "height": null,
            "justify_content": null,
            "justify_items": null,
            "left": null,
            "margin": null,
            "max_height": null,
            "max_width": null,
            "min_height": null,
            "min_width": null,
            "object_fit": null,
            "object_position": null,
            "order": null,
            "overflow": null,
            "overflow_x": null,
            "overflow_y": null,
            "padding": null,
            "right": null,
            "top": null,
            "visibility": null,
            "width": null
          }
        },
        "c29af43f89844c81a99b0c07bce744a4": {
          "model_module": "@jupyter-widgets/controls",
          "model_module_version": "1.5.0",
          "model_name": "DescriptionStyleModel",
          "state": {
            "_model_module": "@jupyter-widgets/controls",
            "_model_module_version": "1.5.0",
            "_model_name": "DescriptionStyleModel",
            "_view_count": null,
            "_view_module": "@jupyter-widgets/base",
            "_view_module_version": "1.2.0",
            "_view_name": "StyleView",
            "description_width": ""
          }
        },
        "d25adc1c9ae949f395701b89906f98fa": {
          "model_module": "@jupyter-widgets/controls",
          "model_module_version": "1.5.0",
          "model_name": "ProgressStyleModel",
          "state": {
            "_model_module": "@jupyter-widgets/controls",
            "_model_module_version": "1.5.0",
            "_model_name": "ProgressStyleModel",
            "_view_count": null,
            "_view_module": "@jupyter-widgets/base",
            "_view_module_version": "1.2.0",
            "_view_name": "StyleView",
            "bar_color": null,
            "description_width": ""
          }
        },
        "ea0877aa16e94deea028e2080dac72a1": {
          "model_module": "@jupyter-widgets/controls",
          "model_module_version": "1.5.0",
          "model_name": "FloatProgressModel",
          "state": {
            "_dom_classes": [],
            "_model_module": "@jupyter-widgets/controls",
            "_model_module_version": "1.5.0",
            "_model_name": "FloatProgressModel",
            "_view_count": null,
            "_view_module": "@jupyter-widgets/controls",
            "_view_module_version": "1.5.0",
            "_view_name": "ProgressView",
            "bar_style": "",
            "description": "",
            "description_tooltip": null,
            "layout": "IPY_MODEL_684d4e38921241cab5ef27f99d835a29",
            "max": 155,
            "min": 0,
            "orientation": "horizontal",
            "style": "IPY_MODEL_d25adc1c9ae949f395701b89906f98fa",
            "value": 9
          }
        },
        "f93c0a503da34fe68115459898a8f0be": {
          "model_module": "@jupyter-widgets/controls",
          "model_module_version": "1.5.0",
          "model_name": "HTMLModel",
          "state": {
            "_dom_classes": [],
            "_model_module": "@jupyter-widgets/controls",
            "_model_module_version": "1.5.0",
            "_model_name": "HTMLModel",
            "_view_count": null,
            "_view_module": "@jupyter-widgets/controls",
            "_view_module_version": "1.5.0",
            "_view_name": "HTMLView",
            "description": "",
            "description_tooltip": null,
            "layout": "IPY_MODEL_b2e2203afb1d401db08ec01d8afb1dd5",
            "placeholder": "​",
            "style": "IPY_MODEL_c29af43f89844c81a99b0c07bce744a4",
            "value": " 9/155 [01:26&lt;22:44,  9.34s/it]"
          }
        },
        "fa59316262f94ea880692b679f8a4281": {
          "model_module": "@jupyter-widgets/base",
          "model_module_version": "1.2.0",
          "model_name": "LayoutModel",
          "state": {
            "_model_module": "@jupyter-widgets/base",
            "_model_module_version": "1.2.0",
            "_model_name": "LayoutModel",
            "_view_count": null,
            "_view_module": "@jupyter-widgets/base",
            "_view_module_version": "1.2.0",
            "_view_name": "LayoutView",
            "align_content": null,
            "align_items": null,
            "align_self": null,
            "border": null,
            "bottom": null,
            "display": null,
            "flex": null,
            "flex_flow": null,
            "grid_area": null,
            "grid_auto_columns": null,
            "grid_auto_flow": null,
            "grid_auto_rows": null,
            "grid_column": null,
            "grid_gap": null,
            "grid_row": null,
            "grid_template_areas": null,
            "grid_template_columns": null,
            "grid_template_rows": null,
            "height": null,
            "justify_content": null,
            "justify_items": null,
            "left": null,
            "margin": null,
            "max_height": null,
            "max_width": null,
            "min_height": null,
            "min_width": null,
            "object_fit": null,
            "object_position": null,
            "order": null,
            "overflow": null,
            "overflow_x": null,
            "overflow_y": null,
            "padding": null,
            "right": null,
            "top": null,
            "visibility": null,
            "width": null
          }
        }
      }
    }
  },
  "nbformat": 4,
  "nbformat_minor": 0
}
