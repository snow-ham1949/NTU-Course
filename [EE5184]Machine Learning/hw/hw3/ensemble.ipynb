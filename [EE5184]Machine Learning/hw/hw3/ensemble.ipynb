{
 "cells": [
  {
   "cell_type": "code",
   "execution_count": 52,
   "metadata": {},
   "outputs": [],
   "source": [
    "import pandas as pd\n",
    "import numpy as np"
   ]
  },
  {
   "cell_type": "code",
   "execution_count": 53,
   "metadata": {},
   "outputs": [],
   "source": [
    "def read_predict(name: str):\n",
    "    name += '.csv'\n",
    "    data = pd.read_csv(name, header=None).iloc[1:, 1:]\n",
    "    data = np.array(data, dtype='int32').squeeze()\n",
    "    return data\n"
   ]
  },
  {
   "cell_type": "code",
   "execution_count": 54,
   "metadata": {},
   "outputs": [],
   "source": [
    "def most_commmon(lst):\n",
    "    return max(set(lst), key = lst.count)\n",
    "\n",
    "def pad4(i):\n",
    "    return \"0\"*(4-len(str(i)))+str(i)"
   ]
  },
  {
   "cell_type": "code",
   "execution_count": 55,
   "metadata": {},
   "outputs": [],
   "source": [
    "result = []\n",
    "\n",
    "for i in range(0, 5):\n",
    "    name = 'predict_' + str(i)\n",
    "    result.append(list(read_predict(name)))\n",
    "\n",
    "result = np.array(result)\n",
    "\n",
    "res = []\n",
    "\n",
    "for j in range(0, 3347):\n",
    "    lst = []\n",
    "    for i in range(0, 5):\n",
    "        lst.append(result[i][j])\n",
    "    res.append(most_commmon(lst))\n",
    "\n",
    "with open('ensemble_2.csv', 'w') as fp:\n",
    "    fp.write('Id,Category\\n')\n",
    "    for i, p in enumerate(res):\n",
    "        fp.write('{},{}\\n'.format(pad4(i + 1), p))\n",
    "\n",
    "#ensemble_1 = prediction 1~4\n",
    "#ensemble_2 = prediction 0~4\n"
   ]
  }
 ],
 "metadata": {
  "interpreter": {
   "hash": "946a8df5bf18ec1aabbc8603d7ccee02b5cd85e8adb0eae690c48894600c4a81"
  },
  "kernelspec": {
   "display_name": "Python 3.9.7 ('base')",
   "language": "python",
   "name": "python3"
  },
  "language_info": {
   "codemirror_mode": {
    "name": "ipython",
    "version": 3
   },
   "file_extension": ".py",
   "mimetype": "text/x-python",
   "name": "python",
   "nbconvert_exporter": "python",
   "pygments_lexer": "ipython3",
   "version": "3.9.7"
  },
  "orig_nbformat": 4
 },
 "nbformat": 4,
 "nbformat_minor": 2
}
