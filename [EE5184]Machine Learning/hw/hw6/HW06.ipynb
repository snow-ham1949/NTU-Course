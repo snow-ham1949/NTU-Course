{
  "cells": [
    {
      "cell_type": "markdown",
      "metadata": {
        "id": "Iv6bjjqyGmqV"
      },
      "source": [
        "# Homework 6 - Generative Adversarial Network\n",
        "This is the sample code for hw6 of 2022 Machine Learning course in National Taiwan University. \n",
        "\n",
        "In this sample code, there are 5 sections:\n",
        "1. Environment setting\n",
        "2. Dataset preparation\n",
        "3. Model setting\n",
        "4. Train\n",
        "5. Inference\n",
        "\n",
        "Your goal is to do anime face generation, if you have any question, please discuss at NTU COOL "
      ]
    },
    {
      "cell_type": "markdown",
      "metadata": {
        "id": "xnp-5lUFLak7"
      },
      "source": [
        "# Environment setting\n",
        "In this section, we will prepare for the dataset and set some environment variable"
      ]
    },
    {
      "cell_type": "markdown",
      "metadata": {
        "id": "_qhoMUt9LniJ"
      },
      "source": [
        "## Download Dataset"
      ]
    },
    {
      "cell_type": "code",
      "execution_count": null,
      "metadata": {
        "id": "AaJRTJEFLrND"
      },
      "outputs": [],
      "source": [
        "# get dataset from huggingface hub\n",
        "!curl -s https://packagecloud.io/install/repositories/github/git-lfs/script.deb.sh | bash\n",
        "# !apt-get install git-lfs\n",
        "!git lfs install\n",
        "!git clone https://huggingface.co/datasets/LeoFeng/MLHW_6\n",
        "!unzip ./MLHW_6/faces.zip -d ."
      ]
    },
    {
      "cell_type": "code",
      "execution_count": null,
      "metadata": {},
      "outputs": [],
      "source": [
        "!stylegan2_pytorch --data ./faces --results_dir ./result --models_dir ./models --network-capacity 256 --attn-layers 1 --image-size 64 --num-train-steps 4000 --top-k-training "
      ]
    },
    {
      "cell_type": "code",
      "execution_count": null,
      "metadata": {},
      "outputs": [],
      "source": [
        "!stylegan2_pytorch --generate  --num_generate=1001 --image_size=64 --num_im0age_tiles 1 --models_dir ./models"
      ]
    },
    {
      "cell_type": "code",
      "execution_count": null,
      "metadata": {},
      "outputs": [],
      "source": [
        "!i=1\n",
        "!for f in `ls results/default/*-ema.jpg` ; do cp $f .//$i.jpg; ((i++)); done"
      ]
    },
    {
      "cell_type": "code",
      "execution_count": null,
      "metadata": {},
      "outputs": [],
      "source": [
        "!tar -zcf submission.tgz *.jpg\n",
        "!rm *.jpg"
      ]
    },
    {
      "cell_type": "code",
      "execution_count": null,
      "metadata": {},
      "outputs": [],
      "source": [
        "!rm -r results/"
      ]
    }
  ],
  "metadata": {
    "accelerator": "GPU",
    "colab": {
      "name": "ML_HW6.ipynb",
      "provenance": []
    },
    "kernelspec": {
      "display_name": "Python 3",
      "name": "python3"
    },
    "language_info": {
      "codemirror_mode": {
        "name": "ipython",
        "version": 3
      },
      "file_extension": ".py",
      "mimetype": "text/x-python",
      "name": "python",
      "nbconvert_exporter": "python",
      "pygments_lexer": "ipython3",
      "version": "3.9.7"
    }
  },
  "nbformat": 4,
  "nbformat_minor": 0
}
